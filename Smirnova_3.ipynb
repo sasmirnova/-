{
 "cells": [
  {
   "cell_type": "code",
   "execution_count": 133,
   "metadata": {},
   "outputs": [
    {
     "data": {
      "text/plain": [
       "(1000, 3)"
      ]
     },
     "execution_count": 133,
     "metadata": {},
     "output_type": "execute_result"
    }
   ],
   "source": [
    "import numpy as np\n",
    "import pandas as pd\n",
    "\n",
    "data = pd.read_json('train.json', encoding = 'utf-8')\n",
    "data = data[:1000]\n",
    "data.shape"
   ]
  },
  {
   "cell_type": "code",
   "execution_count": 134,
   "metadata": {},
   "outputs": [],
   "source": [
    "#присваиваем классам числовое значение\n",
    "y = {'negative': -1, 'neutral': 0, 'positive': 1} \n",
    "data['y'] = data['sentiment'].map(lambda x: y[x])\n",
    "\n",
    "#делим данные на x и y, в x будут тексты, а в у - класс\n",
    "data_Y = data['y'].values\n",
    "data_X = data['text'].values"
   ]
  },
  {
   "cell_type": "code",
   "execution_count": 147,
   "metadata": {},
   "outputs": [],
   "source": [
    "from sklearn.feature_extraction.text import TfidfVectorizer\n",
    "vectorizer = TfidfVectorizer()\n",
    "vectorizer.fit(data_X)\n",
    "X_ = vectorizer.transform(data_X)"
   ]
  },
  {
   "cell_type": "code",
   "execution_count": 148,
   "metadata": {},
   "outputs": [
    {
     "data": {
      "text/plain": [
       "<1000x53493 sparse matrix of type '<class 'numpy.float64'>'\n",
       "\twith 286389 stored elements in Compressed Sparse Row format>"
      ]
     },
     "execution_count": 148,
     "metadata": {},
     "output_type": "execute_result"
    }
   ],
   "source": [
    "X_"
   ]
  },
  {
   "cell_type": "code",
   "execution_count": 188,
   "metadata": {},
   "outputs": [
    {
     "data": {
      "text/plain": [
       "(1000, 80)"
      ]
     },
     "execution_count": 188,
     "metadata": {},
     "output_type": "execute_result"
    }
   ],
   "source": [
    "from sklearn.decomposition import TruncatedSVD\n",
    "svd = TruncatedSVD(n_components=80, n_iter=7, random_state=42)\n",
    "X_reduced = svd.fit_transform(X_)\n",
    "X_reduced.shape"
   ]
  },
  {
   "cell_type": "code",
   "execution_count": 185,
   "metadata": {},
   "outputs": [
    {
     "data": {
      "text/plain": [
       "array([[ 0.26831146,  0.37186848, -0.10669045, ..., -0.07240909,\n",
       "        -0.00353057, -0.01538137],\n",
       "       [ 0.16294819,  0.03912213,  0.02245818, ..., -0.03494242,\n",
       "        -0.15004693, -0.08582515],\n",
       "       [ 0.25560462, -0.08145851, -0.03611158, ..., -0.11014351,\n",
       "        -0.02325572,  0.04854142],\n",
       "       ...,\n",
       "       [ 0.27558996, -0.04538443,  0.13869808, ...,  0.02696251,\n",
       "        -0.03241022, -0.03703325],\n",
       "       [ 0.36971824, -0.10444597, -0.1056007 , ...,  0.019642  ,\n",
       "         0.01733517,  0.05069525],\n",
       "       [ 0.16459598,  0.01903146,  0.06984212, ...,  0.04844292,\n",
       "         0.08490946, -0.01510389]])"
      ]
     },
     "execution_count": 185,
     "metadata": {},
     "output_type": "execute_result"
    }
   ],
   "source": [
    "X_reduced"
   ]
  },
  {
   "cell_type": "markdown",
   "metadata": {},
   "source": [
    "# Задача 1 \n",
    "Проведем кластеризацию с помощью k-means. Подберем нужное количество кластеров с помощью Elbow метода и анализа силуэта."
   ]
  },
  {
   "cell_type": "code",
   "execution_count": 314,
   "metadata": {},
   "outputs": [],
   "source": [
    "from sklearn.cluster import KMeans"
   ]
  },
  {
   "cell_type": "code",
   "execution_count": 315,
   "metadata": {},
   "outputs": [],
   "source": [
    "from sklearn.metrics import silhouette_score"
   ]
  },
  {
   "cell_type": "code",
   "execution_count": 324,
   "metadata": {},
   "outputs": [
    {
     "data": {
      "text/plain": [
       "0.157042879339083"
      ]
     },
     "execution_count": 324,
     "metadata": {},
     "output_type": "execute_result"
    }
   ],
   "source": [
    "model = KMeans(n_clusters=2, random_state=42)\n",
    "preds = model.fit_predict(X_reduced)\n",
    "silhouette_score(X_reduced, model.labels_)"
   ]
  },
  {
   "cell_type": "code",
   "execution_count": 325,
   "metadata": {},
   "outputs": [
    {
     "data": {
      "text/plain": [
       "0.06417163032428047"
      ]
     },
     "execution_count": 325,
     "metadata": {},
     "output_type": "execute_result"
    }
   ],
   "source": [
    "model = KMeans(n_clusters=3, random_state=42)\n",
    "preds = model.fit_predict(X_reduced)\n",
    "silhouette_score(X_reduced, model.labels_)"
   ]
  },
  {
   "cell_type": "code",
   "execution_count": 326,
   "metadata": {},
   "outputs": [
    {
     "data": {
      "text/plain": [
       "0.05869667378197368"
      ]
     },
     "execution_count": 326,
     "metadata": {},
     "output_type": "execute_result"
    }
   ],
   "source": [
    "model = KMeans(n_clusters=4, random_state=42)\n",
    "preds = model.fit_predict(X_reduced)\n",
    "silhouette_score(X_reduced, model.labels_)"
   ]
  },
  {
   "cell_type": "code",
   "execution_count": 328,
   "metadata": {},
   "outputs": [
    {
     "data": {
      "text/plain": [
       "0.05183037572388238"
      ]
     },
     "execution_count": 328,
     "metadata": {},
     "output_type": "execute_result"
    }
   ],
   "source": [
    "model = KMeans(n_clusters=5, random_state=42)\n",
    "preds = model.fit_predict(X_reduced)\n",
    "silhouette_score(X_reduced, model.labels_)"
   ]
  },
  {
   "cell_type": "code",
   "execution_count": 329,
   "metadata": {},
   "outputs": [
    {
     "data": {
      "text/plain": [
       "0.0509518858164204"
      ]
     },
     "execution_count": 329,
     "metadata": {},
     "output_type": "execute_result"
    }
   ],
   "source": [
    "model = KMeans(n_clusters=6, random_state=42)\n",
    "preds = model.fit_predict(X_reduced)\n",
    "silhouette_score(X_reduced, model.labels_)"
   ]
  },
  {
   "cell_type": "markdown",
   "metadata": {},
   "source": [
    "Анализ силуэта оценил модель с 2 кластерами выше, что может говорить, что лучше всего делить тексты на два кластера. Если брать количество кластеров больше двух, то высший результат у кластеризации на три группы. Применим также метод Elbow."
   ]
  },
  {
   "cell_type": "code",
   "execution_count": 200,
   "metadata": {},
   "outputs": [],
   "source": [
    "distances = []\n",
    "for kl in range(1,15):\n",
    "    Km = KMeans(n_clusters=kl, random_state = 42)\n",
    "    Km = Km.fit(X_reduced)\n",
    "    distances.append(Km.inertia_)"
   ]
  },
  {
   "cell_type": "code",
   "execution_count": 201,
   "metadata": {},
   "outputs": [
    {
     "data": {
      "image/png": "[encoded data removed]",
      "text/plain": [
       "<Figure size 432x288 with 1 Axes>"
      ]
     },
     "metadata": {},
     "output_type": "display_data"
    }
   ],
   "source": [
    "import matplotlib.pyplot as plt\n",
    "import matplotlib.cm as cm\n",
    "KM = range(1,15)\n",
    "\n",
    "plt.plot(KM, distances, 'bx-')\n",
    "plt.xlabel('kl')\n",
    "plt.ylabel('distances')\n",
    "plt.title('Elbow Method')\n",
    "plt.show()"
   ]
  },
  {
   "cell_type": "markdown",
   "metadata": {},
   "source": [
    "Если брать число кластеров больше двух, то, согласно этому методу, нельзя точно назвать оптимальное количество кластеров. Попробуем еще понизить размерность."
   ]
  },
  {
   "cell_type": "code",
   "execution_count": 330,
   "metadata": {},
   "outputs": [],
   "source": [
    "svd = TruncatedSVD(n_components=15, n_iter=7, random_state=42)\n",
    "X_reduced_3 = svd.fit_transform(X_)"
   ]
  },
  {
   "cell_type": "code",
   "execution_count": 331,
   "metadata": {},
   "outputs": [
    {
     "data": {
      "image/png": "[encoded data removed]",
      "text/plain": [
       "<Figure size 432x288 with 1 Axes>"
      ]
     },
     "metadata": {},
     "output_type": "display_data"
    }
   ],
   "source": [
    "distances = []\n",
    "for kl in range(1,15):\n",
    "    Km = KMeans(n_clusters=kl, random_state = 42)\n",
    "    Km = Km.fit(X_reduced_3)\n",
    "    distances.append(Km.inertia_)\n",
    "    \n",
    "KM = range(1,15)\n",
    "\n",
    "plt.plot(KM, distances, 'bx-')\n",
    "plt.xlabel('kl')\n",
    "plt.ylabel('distances')\n",
    "plt.title('Elbow Method')\n",
    "plt.show()"
   ]
  },
  {
   "cell_type": "code",
   "execution_count": 270,
   "metadata": {},
   "outputs": [
    {
     "data": {
      "image/png": "[encoded data removed]",
      "text/plain": [
       "<Figure size 432x288 with 1 Axes>"
      ]
     },
     "metadata": {},
     "output_type": "display_data"
    }
   ],
   "source": [
    "svd = TruncatedSVD(n_components=5, n_iter=7, random_state=42)\n",
    "X_reduced_5 = svd.fit_transform(X_)\n",
    "\n",
    "distances = []\n",
    "for kl in range(1,15):\n",
    "    Km = KMeans(n_clusters=kl, random_state = 42)\n",
    "    Km = Km.fit(X_reduced_5)\n",
    "    distances.append(Km.inertia_)\n",
    "    \n",
    "KM = range(1,15)\n",
    "\n",
    "plt.plot(KM, distances, 'bx-')\n",
    "plt.xlabel('kl')\n",
    "plt.ylabel('distances')\n",
    "plt.title('Elbow Method')\n",
    "plt.show()"
   ]
  },
  {
   "cell_type": "code",
   "execution_count": 332,
   "metadata": {},
   "outputs": [
    {
     "data": {
      "image/png": "[encoded data removed]",
      "text/plain": [
       "<Figure size 432x288 with 1 Axes>"
      ]
     },
     "metadata": {},
     "output_type": "display_data"
    }
   ],
   "source": [
    "svd = TruncatedSVD(n_components=3, n_iter=7, random_state=42)\n",
    "X_reduced_7 = svd.fit_transform(X_)\n",
    "\n",
    "distances = []\n",
    "for kl in range(1,15):\n",
    "    Km = KMeans(n_clusters=kl, random_state = 42)\n",
    "    Km = Km.fit(X_reduced_7)\n",
    "    distances.append(Km.inertia_)\n",
    "    \n",
    "KM = range(1,15)\n",
    "\n",
    "plt.plot(KM, distances, 'bx-')\n",
    "plt.xlabel('kl')\n",
    "plt.ylabel('distances')\n",
    "plt.title('Elbow Method')\n",
    "plt.show()"
   ]
  },
  {
   "cell_type": "markdown",
   "metadata": {},
   "source": [
    "Данные результаты применения метода Elbow кажутся уже более интерпретируемыми, хоть до сих пор и сложно определить точное оптимальное количество кластеров. Похоже, это так же 3. Попробуем еще раз применить анализ силуэта для n_components=3."
   ]
  },
  {
   "cell_type": "code",
   "execution_count": 338,
   "metadata": {},
   "outputs": [
    {
     "data": {
      "text/plain": [
       "0.5827149314959437"
      ]
     },
     "execution_count": 338,
     "metadata": {},
     "output_type": "execute_result"
    }
   ],
   "source": [
    "model = KMeans(n_clusters=2, random_state=42)\n",
    "preds = model.fit_predict(X_reduced_7)\n",
    "silhouette_score(X_reduced_7, model.labels_)"
   ]
  },
  {
   "cell_type": "code",
   "execution_count": 339,
   "metadata": {},
   "outputs": [
    {
     "data": {
      "text/plain": [
       "0.37382830187320815"
      ]
     },
     "execution_count": 339,
     "metadata": {},
     "output_type": "execute_result"
    }
   ],
   "source": [
    "model = KMeans(n_clusters=3, random_state=42)\n",
    "preds = model.fit_predict(X_reduced_7)\n",
    "silhouette_score(X_reduced_7, model.labels_)"
   ]
  },
  {
   "cell_type": "code",
   "execution_count": 340,
   "metadata": {},
   "outputs": [
    {
     "data": {
      "text/plain": [
       "0.31656774217731043"
      ]
     },
     "execution_count": 340,
     "metadata": {},
     "output_type": "execute_result"
    }
   ],
   "source": [
    "model = KMeans(n_clusters=4, random_state=42)\n",
    "preds = model.fit_predict(X_reduced_7)\n",
    "silhouette_score(X_reduced_7, model.labels_)"
   ]
  },
  {
   "cell_type": "code",
   "execution_count": 341,
   "metadata": {},
   "outputs": [
    {
     "data": {
      "text/plain": [
       "0.3083250907478277"
      ]
     },
     "execution_count": 341,
     "metadata": {},
     "output_type": "execute_result"
    }
   ],
   "source": [
    "model = KMeans(n_clusters=5, random_state=42)\n",
    "preds = model.fit_predict(X_reduced_7)\n",
    "silhouette_score(X_reduced_7, model.labels_)"
   ]
  },
  {
   "cell_type": "code",
   "execution_count": 337,
   "metadata": {},
   "outputs": [
    {
     "data": {
      "text/plain": [
       "0.16461217848510926"
      ]
     },
     "execution_count": 337,
     "metadata": {},
     "output_type": "execute_result"
    }
   ],
   "source": [
    "model = KMeans(n_clusters=6, random_state=42)\n",
    "preds = model.fit_predict(X_reduced_7)\n",
    "silhouette_score(X_reduced_7, model.labels_)"
   ]
  },
  {
   "cell_type": "markdown",
   "metadata": {},
   "source": [
    "Elbow предлагает количество кластеров, равное 3, лучший показатель после 2х, судя по анализу силуэта, также 3. При том же TurnratedSVD n_components=3."
   ]
  },
  {
   "cell_type": "markdown",
   "metadata": {},
   "source": [
    "Поробуем провести кластеризацию методом K-Means, задав число кластеров, равное трем для n_components=80. Затем проведем то же самое для n_components=3."
   ]
  },
  {
   "cell_type": "code",
   "execution_count": 342,
   "metadata": {},
   "outputs": [],
   "source": [
    "model = KMeans(n_clusters=3, random_state=42)\n",
    "preds = model.fit_predict(X_reduced)"
   ]
  },
  {
   "cell_type": "markdown",
   "metadata": {},
   "source": [
    "Выведем несколько типичных текстов для 1,2 и 3 кластеров."
   ]
  },
  {
   "cell_type": "code",
   "execution_count": 205,
   "metadata": {},
   "outputs": [],
   "source": [
    "from sklearn.metrics import pairwise_distances\n",
    "\n",
    "dist = pairwise_distances(X_reduced, model.cluster_centers_)"
   ]
  },
  {
   "cell_type": "code",
   "execution_count": 206,
   "metadata": {},
   "outputs": [],
   "source": [
    "index = []\n",
    "\n",
    "first = [] \n",
    "second = [] \n",
    "third = [] \n",
    "\n",
    "for i, vec in enumerate(dist):\n",
    "    index.append(i)\n",
    "    first.append(vec[0])\n",
    "    second.append(vec[1])\n",
    "    third.append(vec[2])"
   ]
  },
  {
   "cell_type": "code",
   "execution_count": 209,
   "metadata": {},
   "outputs": [],
   "source": [
    "dat = pd.DataFrame({\"first\":first,\"second\":second ,\"third\":third}, index = index)"
   ]
  },
  {
   "cell_type": "markdown",
   "metadata": {},
   "source": [
    "Выведем три типичных текста для первого класса. То же самое сделаем и для других классов."
   ]
  },
  {
   "cell_type": "code",
   "execution_count": 210,
   "metadata": {},
   "outputs": [
    {
     "data": {
      "text/html": [
       "<div>\n",
       "<style scoped>\n",
       "    .dataframe tbody tr th:only-of-type {\n",
       "        vertical-align: middle;\n",
       "    }\n",
       "\n",
       "    .dataframe tbody tr th {\n",
       "        vertical-align: top;\n",
       "    }\n",
       "\n",
       "    .dataframe thead th {\n",
       "        text-align: right;\n",
       "    }\n",
       "</style>\n",
       "<table border=\"1\" class=\"dataframe\">\n",
       "  <thead>\n",
       "    <tr style=\"text-align: right;\">\n",
       "      <th></th>\n",
       "      <th>first</th>\n",
       "      <th>second</th>\n",
       "      <th>third</th>\n",
       "    </tr>\n",
       "  </thead>\n",
       "  <tbody>\n",
       "    <tr>\n",
       "      <th>103</th>\n",
       "      <td>0.172767</td>\n",
       "      <td>0.168524</td>\n",
       "      <td>0.408073</td>\n",
       "    </tr>\n",
       "    <tr>\n",
       "      <th>565</th>\n",
       "      <td>0.197159</td>\n",
       "      <td>0.182576</td>\n",
       "      <td>0.420744</td>\n",
       "    </tr>\n",
       "    <tr>\n",
       "      <th>772</th>\n",
       "      <td>0.200190</td>\n",
       "      <td>0.209784</td>\n",
       "      <td>0.420805</td>\n",
       "    </tr>\n",
       "  </tbody>\n",
       "</table>\n",
       "</div>"
      ],
      "text/plain": [
       "        first    second     third\n",
       "103  0.172767  0.168524  0.408073\n",
       "565  0.197159  0.182576  0.420744\n",
       "772  0.200190  0.209784  0.420805"
      ]
     },
     "execution_count": 210,
     "metadata": {},
     "output_type": "execute_result"
    }
   ],
   "source": [
    "dat.sort_values(by=[\"first\"]).head(3)"
   ]
  },
  {
   "cell_type": "code",
   "execution_count": 211,
   "metadata": {},
   "outputs": [
    {
     "name": "stdout",
     "output_type": "stream",
     "text": [
      "АКТАУ. КАЗИНФОРМ - Методы, уже применявшиеся во время существования Советского союза, предлагает возродить мангистауский биолог, член Казахстанской ассоциации сохранения биоразнооразия (АСБК) Адильбек Козыбаков.  В целом он высказывается о необходимости реформирования природоохранной системы Казахстана. «Усилий одних только госструктур явно недостаточно: здесь нужен комплексный подход с обязательным вовлечением в природоохранную деятельность как самих природопользователей, так и местного населения. Сейчас ситуация такова: вскроют инспекторы факты браконьерства или нет - на размер зарплаты это не влияет. А 30 лет назад инспектор, задержавший браконьера «с поличным», на законных основаниях получал 37% от суммы, уплаченной нарушителем в бюджет. Если бы эта сумма распределялась между участниками поимки браконьеров, то от желающих охранять природу отбоя бы не было. Да и брать взятку с браконьера стало бы невыгодно - инспектора могли бы неплохо зарабатывать всего лишь исправно выполняя свою работу», - отметил А. Козыбаков. Биолог предлагает, для начала,  чтобы в корне изменить действующую в Казахстане природоохранную систему, пересмотреть перечень мероприятий по охране окружающей среды, утверждаемый уполномоченным органом для исполнения природопользователями первой категории хозяйственной деятельности (по уровню экологической опасности), в части охраны флоры и фауны. Известно, что за последние несколько десятков лет в Мангистауской области исчезли казахстанский кулан и закаспийский гепард, на грани вымирания находятся акклиматизированный в середине 1990-х годов туркменский кулан и устюртская популяция сайги, сокращаются популяции осетровых рыб и тюленя. Независимый эколог убежден - если все компании первой категории будут обязаны проводить мероприятия по реальному уменьшению воздействия на растительный и животный мир, то в недалеком будущем (в комплексе с усилением борьбы с браконьерством со стороны соответствующих госструктур) в Мангистау станет вполне возможным восстановить нарушенную среду обитания и былую численность кулана, устюртского горного барана, джейрана, сайгака, каспийского тюленя, осетровых рыб и т. д. «Утрата этих видов животных будет способствовать обеднению биоразнообразия и нарушению природного баланса. На ресурсы животного мира негативно влияют браконьерская охота и техногенные факторы, изменяющие и сокращающие среду обитания. При этом от деятельности нефтегазовых, промышленных предприятий и их сервисных организаций, от прокладки трубопроводов, автомобильных и железных дорог вреда наносится намного больше, чем от единичных случаев браконьерства», - разъяснил А.Козыбаков. Сейчас Адильбек работает в тандеме  с руководством специализированного центра «Колдау-Экология» многопрофильного некоммерческого холдинга «Колдау-Казахстан». Вместе независимые экологи намерены организовать экологический семинар в ботаническом саду, а также выехать на озеро Караколь - одну их ключевых орнитологических территорий Казахстана. На этом водно-болотное угодье, возникшем около полувека назад в результате производственной деятельности ТОО «МАЭК-Казатомпром», в разные сезоны года обитает, по разным оценкам, от 80 до 175 видов водоплавающих и околоводных птиц, из которых более 20 занесены в Красную книгу Казахстана. Это лебедь-кликун, кудрявый и розовый пеликаны, желтая, египетская и малая белая цапли, фламинго, колпица, каравайка, журавль-красавка, черноголовый хохотун, орлан белохвост и т. д.  Правда, уточняют экологи, выезд на Караколь будет организован только в том случае, если крупные компании, деятельность которых представляет потенциальную угрозу биоразнообразию, отнесутся к этой инициативе ответственно. «Мы уже организовывали экологический семинар. Планировалось, что участвовать в его работе будет не менее 40 представителей природопользователей первой категории. Участие в семинаре было платным - 18 тысяч тенге с человека. В итоге все они отказались. Достучаться до руководителей этих компаний мы пытаемся с момента согласования уполномоченными органами программы семинара, рассчитанного на 2015-2019 годы, то есть уже второй год. В прошлом году из полутора десятка крупных компаний, приглашенных нами, участие в семинаре подтвердила лишь одна - АО «НК «Актауский международный морской торговый порт», - высказалась исполняющая обязанности руководителя СЦ «Колдау-Экология» Гульмира Газизова.\n"
     ]
    }
   ],
   "source": [
    "print(data_X[103])"
   ]
  },
  {
   "cell_type": "code",
   "execution_count": 214,
   "metadata": {},
   "outputs": [
    {
     "name": "stdout",
     "output_type": "stream",
     "text": [
      "Глубоко символично, что в год 25-летия Независимости Казахстана свекловоды Алакольского района сделали первые шаги по возрождению такой важной для экономики района отрасли, как свекловодство. И хотя начинают они со скромных 70 гектаров технической культуры, важно было сделать первый шаг. И они его сделали! \n",
      "\n",
      "Первым к уборке приступили в крестьянском хозяйстве «Саят» (руководитель Саят Курманбаев). Не имея должного опыта и не располагая специальной техникой здесь, тем не менее, сумели вырастить, собрать и отправить на переработку 388 тонн сладкого корня. Получив в первый (!) же год по 388 центнеров сладких корней с каждого из 10 гектаров плантаций. Результат сравнимый с показателями лучших свекловодческих звеньев середины 80-х годов, когда слава алакольских мастеров гремела по всему Семиречью. \n",
      " Сегодня практически завершают копку сахарной свеклы и в ТОО «Нусипов и К», директором которого является опытный руководитель, депутат областного маслихата Канатхан Нусипов. Хозяйство крепкое, специализирующееся на выращивании сои и разведении перспективной породы овец «Байс». Но, заинтересовавшееся и сахарной свеклой. \n",
      " – А почему бы и нет?!, – говорит Канатхан Нусипов – Район-то был в свое время свекловодческим, и техническая культура занимала 5500 гектаров, работал сахарный завод. Да и Президент Нурсултан Назарбаев в ходе рабочих визитов в наш регион поставил задачу возрождения свекловодства в рамках импортозамещения сахара, возобновления работы 5 имеющихся сахарных заводов. Вот и решили мы показать пример. Подняли глубокую зябь осенью 2015 года, закупили набор свекловичной техники голландской фирмы «Агрос». Нынешней весной с семенами французского сорта «Ардан» и субсидиями на покупку минеральных удобрений и гербицидов помогла СПК «Жетісу». Засеяли 60 гектаров, обеспечили уход, в соответствии с технологией возделывания этой культуры и, вот, смотрите – результат. На круг получаем 400-450 центнеров сладкого корня. \n",
      " Действительно, кипит работа на свекловичных плантациях ТОО, хотя непогода (дождь со снегом, слякоть) отняли у полеводов ровно две недели драгоценного времени. Уборочный конвейер отработан до мелочей, в чем несомненная заслуга звеньевого Ахметхана Бакежаева. В свои 70(!) лет он бодр и по-прежнему полон сил. Еще бы! У него за плечами 15 лет труда звеньевым свекловодческого звена в советское время в сов-хозе «Алакульский». «Старый конь борозды не портит», – шутит Канатхан Нусипов. \n",
      " К началу копки свеклы ТОО купило самый современный трактор «МТЗ-1523», который поручили опытным механизаторам Григорию Тупикову и Сергею Чашкину. Он-то и является «сердцем» уборочного комплекса. На трактор навешиваются шестирядные ботвоуборочная машина и прицепной комбайн. За один проход свекла очищается от ботвы, выкапывается и укладывается в ленточный валок по всей длине поля. Корнеплоды, правда, требуют минимальной очистки, которой занимаются привлеченные жители станции Бесколь и аула Булакты. Оплата – 2500 тенге за валок их устраивает, причем расчет производится ежедневно. Затем погрузчик загружает корнеплоды в транспорт. А вот дальше – еще интереснее. \n",
      " Все хозяйства Талдыкорганского региона везут выращенный урожай на приемный пункт Коксуского сахарного завода автотранспортом. При этом 40 процентов затрат субсидируется государством. Но из Алакольского района слишком уж длинное «плечо» – 330 километров в один конец. Поэтому Канатхан Нусипов, все подсчитав, решил действовать иначе. Заключил договор с Алматинским отделением КТЖ и теперь отправляет свеклу на завод... железнодорожными вагонами. Время в пути практически одинаковое с автотранспортом, учитывая нынешние проблемы с приемкой, а вот стоимость перевозки ... в 3 (!) раза дешевле. Уже отправлено 5 вагонов, на железнодорожной площадке заготовлено корнеплодов еще как минимум на 2-3 вагона, которые через пару дней отправятся в путь. \n",
      " Если ясная, теплая погода простоит еще неделю, то уборка свеклы завершится в оптимальные сроки. Ведь за световой день комплекс убирает до 6 гектаров плантаций. Радует свекловодов не только урожайность каждого убранного гектара, но и сахарис-тость – до 16 процентов. А Канатхан Нусипов уже думает о перспективе. Весной 2017 года ТОО намерено посеять 150 гектаров сахарной свеклы. Причем 20 гектаров в урочище Чубартубек, где завершен подъем зяби на участке с толщиной торфа в 40 сантиметров. Поливать плантации здесь намерены с помощью двух дождевальных установок голландской фирмы «IRTEK». \n",
      " Оценив успех и перспективы развития свекловодства, новой для себя культурой в 2017 году намерены заняться еще несколько ТОО и КХ. Так, что по предварительным расчетам, площадь технической культуры увеличится как минимум до 300 гектаров.\n",
      "\n"
     ]
    }
   ],
   "source": [
    "print(data_X[565])"
   ]
  },
  {
   "cell_type": "code",
   "execution_count": 213,
   "metadata": {},
   "outputs": [
    {
     "name": "stdout",
     "output_type": "stream",
     "text": [
      "В 2016 году не без помощи международного консорциума журналистов-расследователей засветился панамский оффшор. В 2013 году та же таинственная организация слила информацию на Виргинский оффшор. В обоих случаях есть данные на казахстанских фигурантов. Так что же такое оффшоры и как они работают?, сообщает Резонанс.kz\n",
      "Оффшорную компанию можно сравнить с «обнальным» лжепредприятием. Такая фирма не предоставляет реальные услуги, не производит реальные товары, у нее может быть номинальный владелец и номинальный руководитель. По сути, это компания-пустышка, через которую прогоняют денежные средства и оформляют коммерческие документы.\n",
      "Поскольку открыть такую компанию несложно, то использовать ее можно в разных целях. Через нее можно оптимизировать налоговые платежи при импортных и экспортных операциях, что в принципе легально. А можно строить с помощью оффшорной компании хитроумные схемы по уводу денежных средств, перечислять туда коррупционные вознаграждения или вообще криминальные деньги. Оффшорная компания все стерпит, поскольку находится в особой оффшорной юрисдикции.\n",
      "Разоблачения в 2013 году оффшорных компаний и трестов в британских Виргинских островах, островах Кука и других оффшорах показали, что там хранится примерно 32 триллиона долларов. В докладе Совета по финансовой стабильности от 2012 года теневые финансово-банковские операции за 2011 год были оценены в сумму 67 триллионов долларов. Уровень теневых финансово-банковских операций наиболее высок в известных финансовых центрах и оффшорных странах. Так, теневые обороты финансово-банковских организаций по отношению к ВВП составили в Гонконге 520%.\n",
      "Можно привести пример того, как можно работать через оффшорные компании. Заранее уточним, что это лишь гипотетический пример, который не имеет под собой документального подтверждения. Есть некая компания Сontour Hong Kong Limited, зарегистрированная в 2002 году в Гонконге под номером 820589. Информация о ней содержится в официальном справочнике на сайте hk.compass.com. Адрес фирмы в Гонконге: 1 Duddell Street Suite 1401-02, Chekiang First Bank Centre.\n",
      "И чем же занимается Сontour Hong Kong Limited? Чай, товары для гигиены зубов и полости рта, косметика, парфюмерия, туалетные принадлежности, товары для дома. Руководитель компании некто Санжай Вазе. А в Казахстане есть широко известная компания «Прима Дистрибьюшн», оборот которой в 2013 году составил 353 миллиона долларов. Она занимается дистрибьюцией чая, товаров для гигиены зубов, косметических товаров для ухода за телом, бытовой химией, товарами для дома.\n",
      "Может ли гонконгский Contour иметь какое-то отношение к казахстанской «Приме»? Есть оперативная, не подтвержденная документально, информация, что минимум до 2007 года компания «Прима Дистрибьюшн» закупала товары у турецкого подразделения американской корпорации Colgate-Palmolive через гонконгского посредника Сontour Hong Kong Limited.\n",
      "Нет данных, каким образом технически все это происходило. Но суть в том, что Colgate-Palmolive продавала свои товары Сontour Hong Kong Limited, а товары тем временем шли сразу импортеру в Казахстане – «Прима Дистрибьюшн». В данное время такая схема не работает, поскольку теперь Colgate-Palmolive импортирует свои товары в Казахстан через свою же компанию, зарегистрированную в Казахстане.\n",
      "Нельзя достоверно утверждать, что Сontour Hong Kong Limited была оффшорной компанией, в которой аккумулировали доходы от импорта в Казахстан товаров американской корпорации. Однако есть другие сведения, подтверждающие эту версию.\n",
      "По словам Александра Гарбера, президента ТОО «Прима Инвест», «Прима» была создана в 1993 году для дистрибуции продуктов питания и бытовой химии. Есть сведения, что это было подразделение компании «Астана холдинг», которую тогда возглавлял Мухтар Аблязов.\n",
      "В 1996 году в Гонконге Санжай Вазе создал компанию Prima Group Limited. О Санжае Вазе известно, что он бывший международный банкир с обширным опытом в решении корпоративных, банковских и торгово-финансовых вопросов. И здесь есть определенные совпадения. Во-первых, Санжай Вазе упомянут как руководитель вышеприведенной компании Сontour Hong Kong Limited, через которую, возможно, «Прима Дистрибьюшн» могла импортировать товары Colgate-Palmolive. Во-вторых, у Prima Group Limited и Сontour Hong Kong Limited указан одинаковый телефон в Гонконге +852 2376 3611. И, в-третьих, есть схожесть в названиях компаний Prima Group Limited и «Прима Дистрибьюшн».\n",
      "Prima Group Limited (PGL) предлагает широкий спектр услуг своим клиентам. «Клиентам, которые желают использовать свою гонконгскую или оффшорную компанию для совершения торговых операций вне Гонконга, мы обеспечиваем полный пакет услуг по торговому менеджменту. Вот типичные бизнес сценарии, по которым работает PGL.\n",
      "Клиент базируется в родной стране, например, в Германии или в США. Клиент импортирует товары из Дальнего Востока, например, из Китая, Тайваня или Кореи. Затем Клиент продает товары напрямую Покупателям или проводит таможенную очистку, а после продает товары местным покупателям через дистрибьюторов либо через свою розничную сеть. Пример 1. Клиента базируется в США и продает китайскую обувь в розничную сеть как Wal-Mart – Покупателю. Покупатель открывает аккредитив на компанию Клиента, зарегистрированную и управляемую PGL в Гонконге. PGL передает аккредитив поставщику в Китае, а затем делает бумажную работу согласно главного аккредитива».\n",
      "Проведение международных торговых операций через оффшорные компании – общепринятая мировая практика, а не изобретение казахстанских предпринимателей. Например, «PGL управляет свыше 400 компаниями, зарегистрированными в ее офисе. Продукты, в которых наши клиенты делают бизнес, различные. Текстиль, одежда, кожа, обувь, химия, минералы, бриллианты. Текстильные принадлежности, запасные части, подарки, чай, агрохимия, электроника, пищевые масла, велосипеды. Программное обеспечение, игрушки, шелк, стекло, строительный материал, медикаменты и прочее».\n",
      "Очень сложно разобраться в том, по каким схемам в Казахстан импортируют товары народного потребления. В случае с транснациональными корпорациями многие из них уже открыли в Казахстане свои компании, через которые оформляют импорт. Там все прозрачно, но есть вопрос внутренних трансфертных цен. Казахстанским дистрибьюторам такой расклад невыгоден, поскольку раньше они контролировали такие импортные операции сами. Теперь же им остается только техническая развозка товаров по торговым точкам.\n",
      "Александра Гарбера упоминают в прессе в числе 50 самых влиятельных бизнесменов Казахстана. Начинал он в 1993 году с дистрибьюции товаров народного потребления, с 2007 года занимается также розничной торговлей. Официально он является владельцем компаний «Прима Дистрибьюшн» и Magnum Cash & Carry, президентом ТОО «Прима инвест». Оборот двух его компаний в 2013 году составил 755 миллионов долларов. Но, похоже, что в его бизнесе не все так просто. Приведем этому несколько косвенных доводов.\n",
      "Так, в 2014 году неконтрольную долю в Magnum Cash & Carry выкупил предприниматель Кенес Ракишев. С 6 октября 2011 по 5 июля 2013 года в России действовало ООО «Прима Дистрибьюшн» с адресом в городе Саратов. Деятельностью его было заявлено «Оптовая торговля пищевыми продуктами, включая напитки, и табачными изделиями». Учредителями были Александр Гарбер с 50%, а также его партнер и топ-менеджер Роман Тихомиров с 25%. Вероятно, что Александр Гарбер предпринял попытку начать бизнес в России, но вынужден был свернуться.\n",
      "А в 2010 году Александр Гарбер создал ТОО «TG TRADE» для дистрибьюции бытовой химии, продуктов питания, косметики и товаров для дома. В 2011 году «TG TRADE» неудачно участвовала в тендере по закупу компанией «Казахстан Темир Жолы» туалетной бумаги. А в 2013 году эта же компания поставила по тендеру в Денисовский район Костанайской области некачественные подгузники для инвалидов.\n",
      "Александр Гарбер не единственный казахстанский предприниматель, который когда-то теоретически мог работать через оффшор. Гонконгские компании Prima Group Limited и Сontour Hong Kong Limited демонстрируют лишь модель международных торговых операций.\n",
      "\n"
     ]
    }
   ],
   "source": [
    "print(data_X[772])"
   ]
  },
  {
   "cell_type": "markdown",
   "metadata": {},
   "source": [
    "Выведем три типичных текста для второго кластера."
   ]
  },
  {
   "cell_type": "code",
   "execution_count": 225,
   "metadata": {},
   "outputs": [
    {
     "data": {
      "text/html": [
       "<div>\n",
       "<style scoped>\n",
       "    .dataframe tbody tr th:only-of-type {\n",
       "        vertical-align: middle;\n",
       "    }\n",
       "\n",
       "    .dataframe tbody tr th {\n",
       "        vertical-align: top;\n",
       "    }\n",
       "\n",
       "    .dataframe thead th {\n",
       "        text-align: right;\n",
       "    }\n",
       "</style>\n",
       "<table border=\"1\" class=\"dataframe\">\n",
       "  <thead>\n",
       "    <tr style=\"text-align: right;\">\n",
       "      <th></th>\n",
       "      <th>first</th>\n",
       "      <th>second</th>\n",
       "      <th>third</th>\n",
       "    </tr>\n",
       "  </thead>\n",
       "  <tbody>\n",
       "    <tr>\n",
       "      <th>445</th>\n",
       "      <td>0.228764</td>\n",
       "      <td>0.142326</td>\n",
       "      <td>0.406837</td>\n",
       "    </tr>\n",
       "    <tr>\n",
       "      <th>186</th>\n",
       "      <td>0.239497</td>\n",
       "      <td>0.148820</td>\n",
       "      <td>0.410505</td>\n",
       "    </tr>\n",
       "    <tr>\n",
       "      <th>488</th>\n",
       "      <td>0.265559</td>\n",
       "      <td>0.150229</td>\n",
       "      <td>0.416430</td>\n",
       "    </tr>\n",
       "    <tr>\n",
       "      <th>882</th>\n",
       "      <td>0.257240</td>\n",
       "      <td>0.153136</td>\n",
       "      <td>0.416425</td>\n",
       "    </tr>\n",
       "  </tbody>\n",
       "</table>\n",
       "</div>"
      ],
      "text/plain": [
       "        first    second     third\n",
       "445  0.228764  0.142326  0.406837\n",
       "186  0.239497  0.148820  0.410505\n",
       "488  0.265559  0.150229  0.416430\n",
       "882  0.257240  0.153136  0.416425"
      ]
     },
     "execution_count": 225,
     "metadata": {},
     "output_type": "execute_result"
    }
   ],
   "source": [
    "dat.sort_values(by=[\"second\"]).head(4)"
   ]
  },
  {
   "cell_type": "code",
   "execution_count": 217,
   "metadata": {},
   "outputs": [
    {
     "name": "stdout",
     "output_type": "stream",
     "text": [
      "В рамках XVI Всероссийского энергетического форума состоялось несколько конкурсов на лучшую технологию, оборудование, продукцию и научные разработки. АО «БЭСК» помимо того, что выступило в качестве генерального спонсора и организатора нескольких актуальных тематических секций, также приняло участие в одной из самых престижных номинаций конкурса «Оригинальное оформление стенда». По решению конкурсной комиссии предприятие было признано победителем и награждено дипломом I степени Министерства промышленности и инновационной политики Республики Башкортостан. Это стало констатацией того факта, что стенд компании на протяжении всех четырех дней работа энергофорума пользовался наибольшим вниманием со стороны посетителей. Пространственно-цветовое решение выделяло его на фоне стендов других компаний: он был не просто выше и больше по площади, но и более функционален и креативен. \n",
      "\n",
      "Своеобразной «изюминкой», креативной находкой стенда АО «БЭСК» стало применение 3D-технологий. Всем желающим выдавались специальные трехмерные очки, благодаря которым посетители стенда могли ознакомиться с новейшими достижениями в российской энергетике на примере передовых технологий Башкирской электросетевой компании. Гостям форума была представлена уникальная возможность, не выходя из здания ВДНХ, совершить виртуальное путешествие по расположенному на расстоянии восьми километров Центру управления сетями (ЦУС) ПО «УГЭС» ООО «Башкирэнерго» – одному из наиболее технологичных энергообъектов в отечественной электроэнергетике. \n",
      "\n",
      "Производственная часть экспозиции была занята «умной» ячейкой ООО «БЭСК Инжиниринг», сборка которых по соглашению с концерном «Сименс» локализована в Уфе в рамках проекта модернизации электросетевого комплекса г. Уфы с применением элементов Smart Grid. \n",
      "\n",
      "На снимке: заместитель Премьер-министра Правительства Башкортостана Дмитрий Шаронов, надев специальные трехмерные очки, совершает виртуальную экскурсию по Центру управления сетями. \n",
      "\n",
      "  \n",
      "\n",
      "  \n",
      "\n",
      " \n",
      "\n"
     ]
    }
   ],
   "source": [
    "print(data_X[445])"
   ]
  },
  {
   "cell_type": "code",
   "execution_count": 218,
   "metadata": {},
   "outputs": [
    {
     "name": "stdout",
     "output_type": "stream",
     "text": [
      "Алматы (Алма-Ата) — 29 ноября /KZinform/. Специалисты исследовательской службы компании HeadHunter Казахстан проанализировали рынок труда и составили рейтинг профессий, которые будут востребованы в 2017 году. \n",
      "\n",
      "Как утверждают эксперты, востребованными останутся представители IT. Уже сейчас рынок остро нуждается в высокопрофессиональных разработчиках. Разработчики программного обеспечения JAVA получают до трех миллионов тенге. \n",
      "\n",
      "Продажи и маркетинг также остаются в топе рейтинга. Правда, к основным требованиям добавилось Google Analytics и SMM, а работа продажников в продвинутых компаниях обязательно предполагает знание CRM-систем. \n",
      "\n",
      "Популярность бухгалтеров и административного персонала падает. Это связано с тем, что начал действовать закон о переходе на электронный документооборот. Много человеческих часов экономится за счет перехода к более прогрессивным инновационным методам финансовой отчетности. \n",
      "\n",
      "Как сообщили эксперты, в Казахстане наметился новый тренд — острая нехватка технических специалистов в инженерии, строительстве, добыче и переработке. Эти секторы экономики остро нуждаются в высокопрофессиональных специалистах. \n",
      "\n",
      "Сохранится определенный спрос на финансистов, аналитиков, антикризисных специалистов и специалистов по оптимизации. \n",
      "\n",
      "По сообщению сайта KZinform\n",
      "\n"
     ]
    }
   ],
   "source": [
    "print(data_X[186])"
   ]
  },
  {
   "cell_type": "code",
   "execution_count": 219,
   "metadata": {},
   "outputs": [
    {
     "name": "stdout",
     "output_type": "stream",
     "text": [
      "Новочеркасский электровозостроительный завод (НЭВЗ, входит в состав ЗАО \"Трансмашхолдинг\") передал Брянскому машиностроительному заводу (АО \"УК \"БМЗ\", также входит в состав ЗАО \"Трансмашхолдинг\") 500-й тяговый двигатель с опорно-осевым подвешиванием ДТК-417Ц для магистрального грузового тепловоза 2ТЭ25КМ. \n",
      "\n",
      "Выпуск двигателей для тепловозов является важнейшей частью реализуемой в холдинге программы развития межзаводской кооперации, осуществляется в рамках российской программы импортозамещения и входит в перечень приоритетных инвестиционных проектов Минпромторга России по приоритетным направлениям гражданской промышленности. Продукция НЭВЗа призвана заменить двигатели, которые ранее приобретались на Украине. \n",
      "\n",
      "Особенность двигателей ДТК-417Ц - сварная конструкция остова и подшипниковых щитов. Применение оригинальных конструктивных решений позволило унифицировать часть необходимых деталей, полностью исключить технологический литейный брак, достичь большей эффективности изоляции узлов двигателя, обеспечить минимальные расходы покупателей в течение жизненного цикла, требуемую надежность и безопасность при эксплуатации. \n",
      "\n",
      "\"Безусловно, важнейшим критерием при выборе электродвигателя для тепловоза является его надежность, при этом электродвигатели ДТК-417Ц за истекший период их эксплуатации зарекомендовали себя как достойная альтернатива традиционно применяемым украинским электродвигателям. Новочеркасские двигатели имеют простую конструкцию, благодаря которой максимально упрощены процедуры разборки и сборки электродвигателя для технического обслуживании и ремонта. При этом расходные элементы (смазка, щетки) полностью унифицированы с электродвигателями, применяемыми в настоящее время на железнодорожном транспорте\", - отметил главный конструктор отдела по разработке новых проектов БМЗ Вадим Гусев.\n",
      "\n"
     ]
    }
   ],
   "source": [
    "print(data_X[488])"
   ]
  },
  {
   "cell_type": "markdown",
   "metadata": {},
   "source": [
    "Просмотрев тексты данного класса, можно заметить, что в основном это рассказы о каких-либо изобретениях и разработках, технологиях и, в частности IT. По большей части они не содержат в себе какой-либо оценки, но, возможно, если она присутствует, то скорее будет положительной."
   ]
  },
  {
   "cell_type": "code",
   "execution_count": 226,
   "metadata": {},
   "outputs": [
    {
     "data": {
      "text/html": [
       "<div>\n",
       "<style scoped>\n",
       "    .dataframe tbody tr th:only-of-type {\n",
       "        vertical-align: middle;\n",
       "    }\n",
       "\n",
       "    .dataframe tbody tr th {\n",
       "        vertical-align: top;\n",
       "    }\n",
       "\n",
       "    .dataframe thead th {\n",
       "        text-align: right;\n",
       "    }\n",
       "</style>\n",
       "<table border=\"1\" class=\"dataframe\">\n",
       "  <thead>\n",
       "    <tr style=\"text-align: right;\">\n",
       "      <th></th>\n",
       "      <th>first</th>\n",
       "      <th>second</th>\n",
       "      <th>third</th>\n",
       "    </tr>\n",
       "  </thead>\n",
       "  <tbody>\n",
       "    <tr>\n",
       "      <th>942</th>\n",
       "      <td>0.471801</td>\n",
       "      <td>0.427850</td>\n",
       "      <td>0.272748</td>\n",
       "    </tr>\n",
       "    <tr>\n",
       "      <th>887</th>\n",
       "      <td>0.534864</td>\n",
       "      <td>0.518245</td>\n",
       "      <td>0.283875</td>\n",
       "    </tr>\n",
       "    <tr>\n",
       "      <th>207</th>\n",
       "      <td>0.451240</td>\n",
       "      <td>0.461913</td>\n",
       "      <td>0.302128</td>\n",
       "    </tr>\n",
       "    <tr>\n",
       "      <th>518</th>\n",
       "      <td>0.390565</td>\n",
       "      <td>0.394902</td>\n",
       "      <td>0.314211</td>\n",
       "    </tr>\n",
       "  </tbody>\n",
       "</table>\n",
       "</div>"
      ],
      "text/plain": [
       "        first    second     third\n",
       "942  0.471801  0.427850  0.272748\n",
       "887  0.534864  0.518245  0.283875\n",
       "207  0.451240  0.461913  0.302128\n",
       "518  0.390565  0.394902  0.314211"
      ]
     },
     "execution_count": 226,
     "metadata": {},
     "output_type": "execute_result"
    }
   ],
   "source": [
    "dat.sort_values(by=[\"third\"]).head(4)"
   ]
  },
  {
   "cell_type": "code",
   "execution_count": 222,
   "metadata": {},
   "outputs": [
    {
     "name": "stdout",
     "output_type": "stream",
     "text": [
      "В 2014 году при объединении пенсионных фондов Казахстана портфель АО \"Единый накопительный пенсионный фонд\" пополнился бумагами 32 дефолтных эмитентов на сумму 161,45 миллиарда тенге, сообщили в ЕНПФ в ответ на официальный запрос редакции Today.kz. Большинство проблемных компаний выплатили фонду стоимость ценных бумаг и часть вознаграждения по ним.  \n",
      "\n",
      "\"С 2014 года задолженность по номинальной стоимости снизилась бумаг снизилась до 36,45 миллиарда тенге, количество проблемных эмитентов сократилось с 32 до 19 компаний: по двум компаниям задолженность полностью погашена, по четырем структурам произведено списание финансовых инструментов в связи с завершением процедуры банкротства и ликвидацией, по семи компаниям задолженность реструктурирована. В настоящий момент фонд осуществляет работу по возврату задолженности по номинальной стоимости 40,5 миллиарда тенге в отношении 21 эмитента, допустившего дефолт, чьи финансовые инструменты входят в состав пенсионных активов\", - пояснили в ЕНПФ. \n",
      " \n",
      "\n",
      "В государственном фонде сообщили, что проблемные ценные бумаги приобреталась не только небольшими частными пенсионным фондами, но и лидерами рынка пенсионных накоплений. Так, облигации АО \"Казахстан Кагазы\" пополняли портфель ЕНПФ с октября 2013 года по июнь 2014 года. \n",
      "\n",
      "\"В частности, облигации этого эмитента были переданы следующими НПФ - АО НПФ \"Астана\", АО \"НПФ \"ГРАНТУМ\", АО \"ГНПФ\", АО \"НПФ \"Капитал\", АО \"ОНПФ \"Отан\", АО НПФ \"НефтеГазДем\", АО НПФ \"ҰларYмiт\". Облигации АО \"Казахстан Кагазы\" были приобретены вышеуказанными НПФ в период с 2005 по 2008 годы\", - привели пример в пресс-службе ЕНПФ. Акционерное общество \"Казахстан Кагазы\" владеет самым крупным в Центральной Азии бумажным комбинатом, и в настоящий момент структура должна ЕНПФ 12,5 миллиарда тенге. \n",
      "\n",
      "\"По этим облигациям сформированы резервы (провизии) в размере 100 процентов (Провизия - вынужденный целевой расход ЕНПФ для покрытия дефолта эмитента - Прим. автора). 8 июня 2016 года постановлением судебной коллегии по гражданским делам Алматинского областного суда началась процедура реабилитации бумажного комбината. При участии фонда был разработан и составлен проект плана реабилитации АО \"Казахстан Кагазы\", - рассказали в ЕНПФ. Процедура реабилитации рассчитана на пятилетний срок. \n",
      "\n",
      "\"В течение пяти лет АО \"Казахстан Кагазы\" должно погасить задолженность перед кредиторами и предоставить дополнительное обеспечение. В соответствии с планом реабилитации, ожидаемая сумма выплат эмитента в пользу ЕНПФ в 2017 году составляет около 10 миллиардов тенге. Аналогичные или похожие процессы в настоящее время проходят во всех эмитентах должников ЕНПФ\", - отметили в фонде. \n",
      "\n",
      "По состоянию на 1 января текущая стоимость портфеля пенсионных активов ЕНПФ составила 6 триллионов 689,66 миллиарда тенге. При этом доходность накоплений на старость равна 7,95 процента. \n",
      "\n",
      "Ранее в ЕНПФ сообщили, что в структуре началась подготовка к кампании по ежегодному обязательному информированию вкладчиков о накоплениях за 2016 год.\n",
      "\n"
     ]
    }
   ],
   "source": [
    "print(data_X[942])"
   ]
  },
  {
   "cell_type": "code",
   "execution_count": 223,
   "metadata": {},
   "outputs": [
    {
     "name": "stdout",
     "output_type": "stream",
     "text": [
      "Решение о сделке облигациями «Бузгул Аурум» принималось ЕНПФ самостоятельно\n",
      " \n",
      "Решение о заключении сделки с облигациями ТОО «Бузгул Аурум» принималось в рамках самостоятельной операционной деятельности ЕНПФ на основании инвестиционного решения, принятого коллегиально инвестиционным комитетом ЕНПФ. Об этом в ходе брифинга сообщила председатель совета директоров АО «ЕНПФ» Дина Галиева, передает корреспондент Zakon.kz.\n",
      "По ее словам, ЕНПФ является самостоятельным юридическим лицом, которое как любой субъект предпринимательской деятельности, имеет на праве собственности имущество и может от своего имени приобретать и осуществлять имущественные и личные неимущественные права и обязанности».\n",
      "Таким образом, по ее словам, принятие инвестиционных решений в отношении собственного имущества ЕНПФ осуществляется им самостоятельно без получения каких-либо разрешений со стороны государственных органов, в случае если это прямо не предусмотрено законами Республики Казахстан.\n",
      "«Согласно Закону об акционерных обществах, совет директоров принимает решения по сделкам, объем которых составляет 25 и более процентов от общего размера балансовой стоимости активов общества, если иное не установлено уставом общества», - рассказала председатель совета директоров АО «ЕНПФ».\n",
      "«Сделка с облигациями ТОО «Бузгул Аурум» не относится к перечню крупных сделок, ввиду того, что объем сделки составляет 5,1 процента от собственных активов ЕНПФ (97,7 млрд. на 1 октября 2016 года)», - заключила Д. Галиева.\n",
      "Отметим, что согласно Закону РК «О пенсионном обеспечении», пенсионные активы - это деньги, ценные бумаги, иные финансовые инструменты, предназначенные для обеспечения и осуществления пенсионных выплат, переводов, а также иных целей, предусмотренных Законом.\n",
      "Инвестирование пенсионных активов осуществляется Национальным Банком по направлениям, одобренным Советом по управлению Национальным фондом РК, в финансовые инструменты, перечень которых утвержден Правительством РК. Пенсионные активы хранятся и учитываются на счетах в Национальном Банке.\n",
      " \n",
      "Кубатбек Туратбеков\n",
      " \n",
      "\n"
     ]
    }
   ],
   "source": [
    "print(data_X[887])"
   ]
  },
  {
   "cell_type": "code",
   "execution_count": 227,
   "metadata": {},
   "outputs": [
    {
     "name": "stdout",
     "output_type": "stream",
     "text": [
      "В Едином пенсионном фонде (ЕНПФ) разъяснили каким образом будут инвестированы деньги, выделяемые по указанию главы государства. Председатель правления ЕНПФ Руслан Ерденаев ответил на вопросы журналистов в Алматы, передает LS.  По его информации, около 350 млрд тенге пойдут на приобретение ценных бумаг, выпущенных министерством финансов. «Когда говорят что деньги пойдут на финансирование дефицита бюджета, это значит, что сделано это будет как раз за счет выпуска государственных ценных бумаг, которые в дальнейшем приобретаются различными инвесторами. В данном случае инвестором будет выступать ЕНПФ», - пояснил Ерденаев. По его словам, облигации будут приобретаться на возвратной основе и будут приносить доход. Глава ЕНПФ напомнил, что около половины активов ЕНПФ уже инвестированны в государственные ценные бумаги.+ «Около 500 млрд тенге будут свободно конвертированы в иностранную валюту для дальнейшего инвестирования на международных рынках капиталов, для приобретения финансовых инструментов различных высокорейтинговых, высоконадежных крупнейших международных компаний и различных финансовых инструментов, которые выпускают другие иностранные государства», - добавил он. Такие меры, по мнению Ерденаева, помогут диверсифицировать накопления и получать стабильный инвестиционного доход в будущем. Еще 600 млрд тенге будет инвестировано в облигации банков второго уровня, крупнейших национальных холдингов и частных компаний. Конкретный механизм, сроки инвестирования и условия пока только обсуждаются. В дальнейшем глава ЕНПФ пообещал озвучить решения по этим вопросам. «Пенсионным активам придан статус стратегических активов страны и приравнены к активам Национального фонда. Это говорит о том, что наши пенсионные накопления находятся под контролем государства», - добавил он. Кроме того, Ерденаев заявил, что после девальвации тенге активы фонда выросли, поскольку 15% средств было инвестировано в иностранную валюту. Напомним, ранее президент Нурсултан Назарбаев поручил инвестировать 1,4 трлн тенге свободных пенсионных накоплений в экономику страны.\n"
     ]
    }
   ],
   "source": [
    "print(data_X[207])"
   ]
  },
  {
   "cell_type": "code",
   "execution_count": 355,
   "metadata": {},
   "outputs": [
    {
     "name": "stdout",
     "output_type": "stream",
     "text": [
      "\n",
      "Эксперты Halyk Finance рассказали, как ЕНПФ инвестирует свои деньги в банки Казахстана . По данным аналитиков компании Салтанат Мадиевой и Мурата Темирханова, ЕНПФ инвестирует свои деньги в банки двумя путями - покупая облигации банков и размещая в них срочные депозиты. \"С точки зрения прозрачности, покупка облигаций является наиболее предпочтительным способом инвестирования, поскольку на фондовой бирже публикуются все ключевые условия по этим ценным бумагам. Размещение денег ЕНПФ на депозитах в банках - это непрозрачный процесс, который не позволяет определить, насколько условия по таким депозитам отвечают рыночным\", - отмечают эксперты. Как сообщается, в соответствии с нормальной инвестиционной практикой размер инвестиций в определенный банк должен зависеть от уровня кредитного риска и размера банка. При этом аналитики заявляют, что инвестиционные решения ЕНПФ по отношению к банкам далеки от такой практики. Это следует из данных в таблице, приведенной ниже.  В Halyk Finance отметили Казкоммерцбанк как крупнейший банк в стране по активам (рыночная доля 20,5 процента на конец августа), но при этом они подчеркивают, что у банка самые низкие кредитные рейтинги от международных рейтинговых агентств в банковской системе. \"Самый низкий рейтинг от агентства Fitch (CCC), что означает \"высокая вероятность дефолта\". Такой низкий рейтинг по факту является запретительным для инвестиций. Тем не менее размер инвестиций ЕНПФ в этот банк растет, причем за счет непрозрачных вкладов\", - говорится в отчете аналитиков компании.     Также в таблице привлекают внимание Kaspi, Евразийский и АТФ банки, у которых финансирование от ЕНПФ занимает очень существенную долю в активах. Эксперты уверены, что у всех этих банков инвестиции ЕНПФ существенно превышают размер собственного капитала, что указывает на более высокие риски таких инвестиций с точки зрения ЕНПФ. При этом Евразийский и АТФ банки имеют более низкие кредитные рейтинги по сравнению с другими банками.   Источник\n",
      "\n"
     ]
    }
   ],
   "source": [
    "print(data_X[518])"
   ]
  },
  {
   "cell_type": "markdown",
   "metadata": {},
   "source": [
    "В третий класс вошли тексты, схожие по тематике, в которые также входят повторяющиеся слова - деньги, пенсионный, ЕНПФ, сделка. "
   ]
  },
  {
   "cell_type": "markdown",
   "metadata": {},
   "source": [
    "Также попоробуем провести кластеризацию методом K-Means, задав число кластеров, равное трем для n_components=3."
   ]
  },
  {
   "cell_type": "code",
   "execution_count": 366,
   "metadata": {},
   "outputs": [],
   "source": [
    "model = KMeans(n_clusters=3, random_state=42)\n",
    "preds = model.fit_predict(X_reduced_7)\n",
    "dist = pairwise_distances(X_reduced_7, model.cluster_centers_)\n",
    "index = []\n",
    "\n",
    "first = [] \n",
    "second = [] \n",
    "third = [] \n",
    "\n",
    "for i, vec in enumerate(dist):\n",
    "    index.append(i)\n",
    "    first.append(vec[0])\n",
    "    second.append(vec[1])\n",
    "    third.append(vec[2])\n",
    "\n",
    "dat = pd.DataFrame({\"first\":first,\"second\":second ,\"third\":third}, index = index)"
   ]
  },
  {
   "cell_type": "markdown",
   "metadata": {},
   "source": [
    "Выведем три типичных текста для первого класса. То же самое сделаем и для других классов."
   ]
  },
  {
   "cell_type": "code",
   "execution_count": 367,
   "metadata": {},
   "outputs": [
    {
     "data": {
      "text/html": [
       "<div>\n",
       "<style scoped>\n",
       "    .dataframe tbody tr th:only-of-type {\n",
       "        vertical-align: middle;\n",
       "    }\n",
       "\n",
       "    .dataframe tbody tr th {\n",
       "        vertical-align: top;\n",
       "    }\n",
       "\n",
       "    .dataframe thead th {\n",
       "        text-align: right;\n",
       "    }\n",
       "</style>\n",
       "<table border=\"1\" class=\"dataframe\">\n",
       "  <thead>\n",
       "    <tr style=\"text-align: right;\">\n",
       "      <th></th>\n",
       "      <th>first</th>\n",
       "      <th>second</th>\n",
       "      <th>third</th>\n",
       "    </tr>\n",
       "  </thead>\n",
       "  <tbody>\n",
       "    <tr>\n",
       "      <th>108</th>\n",
       "      <td>0.011836</td>\n",
       "      <td>0.178945</td>\n",
       "      <td>0.373918</td>\n",
       "    </tr>\n",
       "    <tr>\n",
       "      <th>145</th>\n",
       "      <td>0.014623</td>\n",
       "      <td>0.172572</td>\n",
       "      <td>0.376212</td>\n",
       "    </tr>\n",
       "    <tr>\n",
       "      <th>955</th>\n",
       "      <td>0.018376</td>\n",
       "      <td>0.166452</td>\n",
       "      <td>0.382398</td>\n",
       "    </tr>\n",
       "  </tbody>\n",
       "</table>\n",
       "</div>"
      ],
      "text/plain": [
       "        first    second     third\n",
       "108  0.011836  0.178945  0.373918\n",
       "145  0.014623  0.172572  0.376212\n",
       "955  0.018376  0.166452  0.382398"
      ]
     },
     "execution_count": 367,
     "metadata": {},
     "output_type": "execute_result"
    }
   ],
   "source": [
    "dat.sort_values(by=[\"first\"]).head(3)"
   ]
  },
  {
   "cell_type": "code",
   "execution_count": 368,
   "metadata": {},
   "outputs": [
    {
     "name": "stdout",
     "output_type": "stream",
     "text": [
      "\n",
      "Версия для печати\n",
      "19:23\n",
      "\n",
      "Электроэнергетическая\n",
      "Россия\n",
      "Итоги работы оптового рынка электроэнергии и мощности с 14.10.2016 по 20.10.2016\n",
      "\n",
      "\n",
      "\n",
      "Общий объем планового электропотребления на рынке на сутки вперед за прошедшую неделю составил 18,70 млн МВт∙ч. В европейской части РФ и на Урале плановое электропотребление составило 14,81 млн МВт∙ч, увеличившись по отношению к прошлой неделе на 4,6%.\n",
      "\n",
      "Суммарный объем планового потребления в европейской части РФ и на Урале с начала года по отношению к аналогичному периоду прошлого года вырос на 1,4%. В Сибири плановое электропотребление составило 3,89 млн МВт∙ч, увеличившись по сравнению с прошлой неделей на 1,6%. Суммарный объем планового потребления в Сибири с начала года по отношению к аналогичному периоду прошлого года вырос на 0,6%.   За истекшую неделю в структуре плановой выработки европейской части России и Урала доля ТЭС выросла на 2,4 процентного пункта относительно предыдущей недели и выросла на 0,5 процентного пункта относительно среднего значения с начала 2016 года. В структуре плановой выработки Сибири доля ТЭС относительно предыдущей недели выросла на 2,7 процентного пункта и была на 7,5 процентного пункта ниже относительно среднего значения с начала 2016 года.   В европейской части РФ и на Урале на ТЭС пришлось 66,7% выработки, на ГЭС и АЭС – 6,4% и 26,8% соответственно. В Сибири структура выработки сформировалась следующим образом: ТЭС – 41,7%, ГЭС – 58,3%.   Индекс равновесных цен в европейской части РФ и на Урале за неделю вырос на 0,1% и составил - 1 196,6 руб./МВт∙ч (средневзвешенный индекс равновесных цен за период с начала года вырос на 4,3% по отношению к аналогичному периоду прошлого года). В Сибири индекс за неделю вырос на 16,6% - до 796 руб./МВт∙ч (средневзвешенный индекс равновесных цен за период с начала года снизился на 7,6% по отношению к аналогичному периоду прошлого года).   По состоянию на 14 октября 2016 года общая задолженность участников рынка составила 57,0 млрд рублей, снизившись с 1 октября 2016 года на 0,1 млрд рублей, в том числе задолженность по ценовым зонам составила 55,58 млрд рублей, по неценовым зонам – 1,45 млрд рублей (напомним, контрольные даты платежей - 14, 21 и 28 числа каждого месяца).\n",
      "\n",
      "\n",
      "\n",
      "\n",
      "\n",
      "\n",
      "28.09.16  Экологизация технологий сжигания угля\n",
      "15.08.16  Комплексный подход: как обеспечить бесперебойную работу нефтегазовых предприятий?\n",
      "11.08.16  Создать завод будущего уже сегодня\n",
      "15.06.16  Энергомост в Крым есть. Что дальше?\n",
      "\n",
      "Тэги\n",
      "энергосистема\n",
      "Совет рынка\n",
      "энергорынок\n",
      "электропотребление\n",
      "\n",
      "Все новости за сегодня (49)\n",
      "19:23, 21 Октября 16 Итоги работы оптового рынка электроэнергии и мощности с 14.10.2016 по 20.10.2016 дальше.. 18:13, 21 Октября 16 Саратовская ГЭС обновит все 22 вертикальные гидротурбины дальше.. 18:10, 21 Октября 16 На строящейся Ленинградской АЭС побывали представители Промышленной палаты Турции дальше.. 18:05, 21 Октября 16 «Т Плюс» переведет Воркутинскую центральную водогрейную котельную с мазута на газ дальше.. 17:51, 21 Октября 16 «Орелэнерго» до 2022 года планирует провести телемеханизацию всех энергообъектов класса напряжения 35-110 кВ дальше.. 17:40, 21 Октября 16 УКС подключили дома и социальные объекты в районе Соцгорода к котельной Ижевского механического завода дальше.. 14:38, 21 Октября 16 ОКБ «Гидропресс» представило разработки по применению нейронных сетей для анализа надежности аварийной защиты реактора дальше.. 14:33, 21 Октября 16 В Волгодонске состоялись общественные слушания по повышению мощности энергоблока №2 до 104% дальше.. 14:03, 21 Октября 16 На базе Белгородского филиала «Квадры» прошел городской День охраны труда дальше.. 14:02, 21 Октября 16 Чешское предприятие «Атомэнергомаша» изготовило оборудование для египетских проектов компании Siemens дальше.. 14:00, 21 Октября 16 Атомоход «50 лет Победы» вывел из ледового плена научно-исследовательское судно «Виктор Буйницкий» дальше.. 13:39, 21 Октября 16 «Кубаньэнерго» заменило 12 км грозотроса на транзитной ЛЭП «Калининская – Нововеличковская» дальше.. 13:25, 21 Октября 16 Росатом открыл региональный центр в Индии дальше.. 13:19, 21 Октября 16 Казатомпром построит завод по производству ТВС дальше.. 12:34, 21 Октября 16 «СитиЭнерго» осуществило текущий ремонт на оборудовании Калининградской ТЭЦ-2 дальше.. 12:26, 21 Октября 16 Свыше 27 тысяч светильников модернизировано в Подмосковье с начала года дальше.. 11:44, 21 Октября 16 Дополнительные мощности введены на Толмачевской ГЭС и Камчатских ТЭЦ для энергоснабжения Петропавловска-Камчатского дальше.. 11:35, 21 Октября 16 Обоснованным коридором колебаний для Brent является область $50-55 долларов за баррель дальше.. 11:28, 21 Октября 16 Русгидро ожидает рост производства ГЭС в 2016 году на 14-16% дальше.. 10:57, 21 Октября 16 МРСК Северного Кавказа выполнила капитальный ремонт 83,3 км ЛЭП в Ингушетии дальше.. 10:54, 21 Октября 16 Нефтяные месторождения Казахстана с морским терминалом в Новороссийске соединил трубопровод протяженностью 1 511 км дальше.. 10:52, 21 Октября 16 Испытание теплосетей Костромы с помощью красителя показало двукратное увеличение количества дефектов муниципальных трубопроводов дальше.. 10:47, 21 Октября 16 Южно-Украинская АЭС финансирует археологические раскопки на берегу Александровского водохранилища дальше.. 10:45, 21 Октября 16 «Белэнергомаш» поставил металлоконструкции для проекта «Ямал СПГ» дальше.. 10:35, 21 Октября 16 Цены на нефть останутся в диапазоне $50,9-$53,1 до конца недели дальше.. 10:02, 21 Октября 16 «Хевел» построит в Башкортостане восемь объектов солнечной генерации суммарной мощностью 64 МВт дальше.. 09:54, 21 Октября 16 «Камчатскэнерго» реконструирует систему теплоснабжения в Петропавловске-Камчатском дальше.. 09:52, 21 Октября 16 ДТЭК произвела 2 млрд кВт·ч «зеленой» электроэнергии с момента создания ветроэнергетического бизнеса дальше.. 09:50, 21 Октября 16 «Ленэнерго» ищет заявителей на технологическое присоединение к электросетям дальше.. 09:44, 21 Октября 16 Ровенская АЭС разрабатывает новую автоматизированную информационную систему для энергоблока №4 дальше.. 07:53, 21 Октября 16 В октябре госшахты втрое увеличат отгрузку угля на станции ДТЭК Энерго дальше.. 07:28, 21 Октября 16 Юнипро в январе-сентябре увеличила производство электроэнергии на 3,3% дальше.. 07:25, 21 Октября 16 Минэнерго России совместно с РОСНАНО разработали концепцию отраслевого фонда «Электроэнергетика» дальше.. 07:18, 21 Октября 16 В Петропавловске-Камчатском 37 тысяч человек остались без электричества дальше.. 07:03, 21 Октября 16 Baker Hughes обнародует цифры по действующим буровым в США дальше.. 07:00, 21 Октября 16 Азиатское суперкольцо позволит России расширить свои экспортные связи с Японией, Кореей и Китаем дальше.. 06:59, 21 Октября 16 Совет директоров Лучегорского угольного разреза избрал нового руководителя предприятия дальше.. 06:21, 21 Октября 16 Бригада «Южного Кузбасса» вошла в шахтерский клуб «миллионеров» дальше.. 06:19, 21 Октября 16 Нефтепорт Козьмино сможет принимать танкеры дедвейтом до 150 тысяч тонн у обоих причалов дальше.. 06:14, 21 Октября 16 «Ленсвет» реконструировал наружное освещение по Пулковскому путепроводу дальше.. 06:07, 21 Октября 16 За прошедшие со дня пуска 10 месяцев Нижнетуринская ГРЭС выработала более 2,4 млн кВт/ч электроэнергии дальше.. 05:39, 21 Октября 16 Новое оборудование ТЭЦ «Восточная» подает тепло в жилые дома Владивостока дальше.. 05:37, 21 Октября 16 «Калининградская генерирующая компания» перевела теплоисточники в зимний режим работы дальше.. 05:32, 21 Октября 16 В Алтайском крае на установку модульных котельных выделили 37 миллионов рублей из бюджета региона дальше.. 05:29, 21 Октября 16 «Сахаэнерго» за период навигации доставило 65 тысяч тонн дизтоплива в отдаленные улусы Якутии дальше.. 05:24, 21 Октября 16 Энергомост способен поставлять в Крым с материковой части России до 800 МВт электрической мощности дальше.. 05:09, 21 Октября 16 В Якутии до конца года запустят 28 новых котельных дальше.. 05:09, 21 Октября 16 На законсервированных площадях ЭХЗ создаются новые производства дальше.. 05:02, 21 Октября 16 В 2016 году сетевой газ впервые придет более чем в 2400 домохозяйств Бишкека дальше..  \n",
      "\n"
     ]
    }
   ],
   "source": [
    "print(data_X[108])"
   ]
  },
  {
   "cell_type": "code",
   "execution_count": 369,
   "metadata": {},
   "outputs": [
    {
     "name": "stdout",
     "output_type": "stream",
     "text": [
      "Такие данные были озвучены на семинаре по вопросам проверки правильности и обоснованности оформления одобрений типа транспортных средств, а также хода реализации технического регламента Таможенного союза «О безопасности колесных транспортных средств», прошедшем 4 ноября т.г. в Эталонном центре. \n",
      "\n",
      " \n",
      "\n",
      " \n",
      "\n",
      " \n",
      "\n",
      " Семинар проведен на площадке РГП «Казахстанский институт стандартизации и сертификации» при поддержке Комитета технического регулирования и метрологии (КТРМ). \n",
      "\n",
      " \n",
      "\n",
      " \n",
      " \n",
      "\n",
      " \n",
      "\n",
      " \n",
      " \n",
      "\n",
      " \n",
      "\n",
      " \n",
      "\n",
      " \n",
      "\n",
      " В мероприятии приняли участие представители КТРМ, ТОО «Национальный центр аккредитации», ОЮЛ «КазАвтоПром», изготовителей транспортных средств и их полномочных представителей, а также органов по подтверждению соответствия (ОПС). \n",
      "\n",
      " \n",
      "\n",
      " \n",
      "\n",
      " \n",
      "\n",
      " Открывая семинар, Заместитель Председателя КТРМ Галымжан Дугалов подчеркнул: «Развитие автомобилестроения в Казахстане, а также принятие ТР ТС 018/2011 послужили драйвером реформирования отечественной системы технического регулирования в области оценки соответствия транспортных средств. В Республике Казахстан в короткий срок созданы условия, позволяющие подтвердить соответствие основных компонентов колесных транспортных средств. Это особенно важно в контексте реализации второй пятилетки индустриализации, одним из направлений которой является рост локализации автомобильной промышленности с производством автокомпонентов в нашей стране». \n",
      "\n",
      " \n",
      "\n",
      " \n",
      "\n",
      " \n",
      "\n",
      " С принятием технического регламента Таможенного союза «О безопасности колесных транспортных средств» в Казахстане сформирована принципиально новая система сертификации транспортных средств и их компонентов. На КТРМ возложены функции компетентного органа в рамках Соглашения 1958 года и ТР ТС 018/2011, РГП «Казахстанский институт стандартизации и сертификации» определено Техническим секретариатом. \n",
      "\n",
      " \n",
      "\n",
      " \n",
      " \n",
      "\n",
      " \n",
      "\n",
      " \n",
      " \n",
      "\n",
      " \n",
      "\n",
      " \n",
      "\n",
      " \n",
      "\n",
      " Прошли аккредитацию и включены в Единый реестр органов по сертификации и испытательных лабораторий Таможенного союза 40 казахстанских ИЛ и 25 ОПС, в т.ч. полноценный ОПС «Центр оценки соответствия продукции автомобилестроения и сертификации систем менеджмента качества (Казавтосерт). \n",
      "\n",
      " \n",
      "\n",
      " \n",
      "\n",
      " \n",
      "\n",
      " Руководитель Технического секретариата Миргали Умаров рассказал участникам о ходе реализации ТР ТС 018/2011. Были озвучены проблемные вопросы, выявленные при реализации технического регламента, а также решения, принятые в рамках Евразийской экономической комиссии. \n",
      "\n",
      " \n",
      "\n",
      " \n",
      " \n",
      "\n",
      " \n",
      "\n",
      " \n",
      " \n",
      "\n",
      " \n",
      "\n",
      " \n",
      "\n",
      " \n",
      "\n",
      " Было отмечено, что на сегодняшний день в Казахстане имеется возможность подтверждения соответствия 77 % (92 из 118-ти) автокомпонентов отечественными аккредитованными ОПС и ИЛ, в том числе на основании сообщений об официальном утверждении типа и деклараций о соответствии. По сертификации оставшихся 26 автокомпонентов отечественным ОПС и ИЛ даны рекомендации об установлении взаимовыгодного сотрудничества в рамках единого экономического пространства ЕАЭС с соответствующими органами Российской Федерации и Республики Беларусь. \n",
      "\n",
      " \n",
      "\n",
      " \n",
      "\n",
      " \n",
      "\n",
      " Основное внимание на семинаре было уделено практическим аспектам проверки правильности и обоснованности оформления одобрений типа транспортного средства, одобрений типа шасси (ОТТС, ОТШ). \n",
      "\n",
      " \n",
      "\n",
      " \n",
      "\n",
      " \n",
      "\n",
      " В настоящее время оформлением ОТТС, ОТШ занимаются 15 отечественных ОПС, включенных в Единый реестр Таможенного союза. Анализ представленных ОПС на проверку документов показал, что в отдельных случаях имеет место неполнота представляемых документов либо ошибки в оформлении ОТТС, ОТШ. \n",
      "\n",
      " \n",
      "\n",
      " \n",
      "\n",
      " \n",
      "\n",
      " Необходимо особо отметить, что выданные ОТТС, ОТШ являются публичными документами, сведения о которых вносятся в единый реестр, размещенный на официальном сайте Евразийской экономической комиссии. В этой связи оформление ОТТС, ОТШ, а равно как и  проверка правильности и обоснованности оформленных документов, потребуют тщательного и скрупулезного подхода. \n",
      "\n",
      " \n",
      "\n",
      " \n",
      "\n",
      " \n",
      "\n",
      " Кроме того, эксперты Технического секретариата подчеркнули, что качественное оформление и быстрое получение  ОТТС, ОТШ зависит как от наличия необходимых документов, так и от организации, которая оформляет его. В связи с чем, большое значение имеет уровень компетенции ОПС и наличие экспертов, обладающих необходимой квалификацией. \n",
      "\n",
      " \n",
      "\n",
      " \n",
      "\n",
      " \n",
      "\n",
      " В целом мероприятие послужило укреплению конструктивного диалога и взаимопониманию между сторонами, участвующими в процессе сертификации транспортных средств, и выработке единых подходов при реализации ТР ТС 018/2011. \n",
      "\n",
      " \n",
      "\n",
      " \n",
      "\n",
      " \n",
      "\n",
      " \n",
      "\n",
      " \n",
      "\n",
      " \n",
      "\n",
      " \n",
      "\n",
      " Справка \n",
      "\n",
      " \n",
      "\n",
      " \n",
      "\n",
      " \n",
      "\n",
      " \n",
      "\n",
      " \n",
      "\n",
      " \n",
      "\n",
      " \n",
      "\n",
      " Технический регламент Таможенного союза «О безопасности колесных транспортных средств» (ТР ТС 018/2011) принят Решением Комиссии Таможенного союза от 9 декабря 2011 года и вступил в силу с 1 января 2015 года. \n",
      "\n",
      " \n",
      "\n",
      " \n",
      "\n",
      " \n",
      "\n",
      " Переходный период завершился 1 июля 2016 года. \n",
      " Начало активности (дата): 04.11.2016 09:19:00 \n",
      " Дата изменения: 04.11.2016 12:21:54\n",
      "\n"
     ]
    }
   ],
   "source": [
    "print(data_X[145])"
   ]
  },
  {
   "cell_type": "code",
   "execution_count": 370,
   "metadata": {},
   "outputs": [
    {
     "name": "stdout",
     "output_type": "stream",
     "text": [
      "\"Банки слабые. Всего четыре банка держат 80% активов банка, остальные 26%, у некоторых нет и 1%. В мире, когда наступил кризис, объединяются крупные компании. Пусть объединяются или пусть акционеры ставят собственные деньги, если хотят сохранить банк. Другого способа сохранения банков нет. Они не нужны экономике, значит не имеют права на жизнь. Правильно? (обращаясь к Д.Акишеву, главе Нацбанка РК) Вот действуй смело! Никого не бойся! Честно по закону, как положено! Если кто будет вмешиваться, скажи мне фамилию\". \n",
      " \n",
      "Об этом президент Казахстана Нурсултан Назарбаев заявил, выступая на расширенном заседании Правительства. \n",
      " \n",
      " «Считаю, что Нацбанк работал грамотно в тяжелейший прошлый год. Сейчас я поставил задачу, чтобы возможности банка по контролю и регулированию усилить законодательно. Дать право такое надо, внести проект. И вмешательство в дела Нацбанка надо считать вмешательством в дела финансовой системы страны и наказывать», - сказал Глава государства, . \n",
      " \n",
      "«Я смотрю и вижу, чем больше Нацбанк начинает наводить порядок, тем больше нападки на его председателя, которого я 100%-но поддерживаю. Это делают акционеры и спонсоры, которых вот здесь сидят, в этом зале. Никого не бойся, никого!» - добавил Нурсултан Назарбаев, обращаясь к председателю Нацбанка Данияру Акишеву. \n",
      " \n",
      "«Не газеты и журналисты виноваты, а хозяева. Мы к хозяевам примем меры, которые препятствуют наведению порядка», - заключил президент. Просмотров: (9), комментариев:(0)\n",
      "\n"
     ]
    }
   ],
   "source": [
    "print(data_X[995])"
   ]
  },
  {
   "cell_type": "markdown",
   "metadata": {},
   "source": [
    "Тексты, попавшие в этот кластер, не сильно похожи по тематике, однако, можно заметить, что во всех из них приводится какая-либо статистика. Также, все эти тексты по длине довольно разнородные."
   ]
  },
  {
   "cell_type": "code",
   "execution_count": 371,
   "metadata": {},
   "outputs": [
    {
     "data": {
      "text/html": [
       "<div>\n",
       "<style scoped>\n",
       "    .dataframe tbody tr th:only-of-type {\n",
       "        vertical-align: middle;\n",
       "    }\n",
       "\n",
       "    .dataframe tbody tr th {\n",
       "        vertical-align: top;\n",
       "    }\n",
       "\n",
       "    .dataframe thead th {\n",
       "        text-align: right;\n",
       "    }\n",
       "</style>\n",
       "<table border=\"1\" class=\"dataframe\">\n",
       "  <thead>\n",
       "    <tr style=\"text-align: right;\">\n",
       "      <th></th>\n",
       "      <th>first</th>\n",
       "      <th>second</th>\n",
       "      <th>third</th>\n",
       "    </tr>\n",
       "  </thead>\n",
       "  <tbody>\n",
       "    <tr>\n",
       "      <th>217</th>\n",
       "      <td>0.185489</td>\n",
       "      <td>0.012316</td>\n",
       "      <td>0.392642</td>\n",
       "    </tr>\n",
       "    <tr>\n",
       "      <th>812</th>\n",
       "      <td>0.166795</td>\n",
       "      <td>0.015533</td>\n",
       "      <td>0.384738</td>\n",
       "    </tr>\n",
       "    <tr>\n",
       "      <th>21</th>\n",
       "      <td>0.148238</td>\n",
       "      <td>0.029022</td>\n",
       "      <td>0.377588</td>\n",
       "    </tr>\n",
       "  </tbody>\n",
       "</table>\n",
       "</div>"
      ],
      "text/plain": [
       "        first    second     third\n",
       "217  0.185489  0.012316  0.392642\n",
       "812  0.166795  0.015533  0.384738\n",
       "21   0.148238  0.029022  0.377588"
      ]
     },
     "execution_count": 371,
     "metadata": {},
     "output_type": "execute_result"
    }
   ],
   "source": [
    "dat.sort_values(by=[\"second\"]).head(3)"
   ]
  },
  {
   "cell_type": "code",
   "execution_count": 372,
   "metadata": {},
   "outputs": [
    {
     "name": "stdout",
     "output_type": "stream",
     "text": [
      "Премьер поручил разобраться с тарифами «Эйр Астаны» Сегодня, 11:03 Бакытжан Сагинтаев дал задание Министерству национальной экономики во вторник, 1 ноября \n",
      " \n",
      " \n",
      " Фото: ortcom.kz \n",
      " \n",
      " Бакытжан Сагинтаев. \n",
      " \n",
      "Премьер-министр РК поручил МНЭ РК разобраться с ситуацией по повышению тарифов на авиаперевозки внутри страны и в соответствии с законодательством принимать решение, передает корреспондент Казинформ. \n",
      "- Мы видим, что транзитный потенциал увеличивается, через Астану очень много рейсов выходит. Мы сейчас знаем, что по основному потоку в сторону Парижа китайские туристы пользуются нашими рейсами, где-то 70% загрузки. Это очень хорошо, но в тоже время мы видим, что есть вопросы по тарифам внутри страны, особенно по направлению Астана - Алматы. Министерство экономики проводило расследование, хотел бы понять, как ситуация сейчас? Вы завершили работу или все еще ведется? - обратился Бакытжан Сагинтаев на заседании правительства к министру национальной экономики Куандыку Бишимбаеву. \n",
      " \n",
      " \n",
      " \n",
      " Виновата ли Россия в запрете полетов «Эйр Астаны» в Монголию? \n",
      " На этот вопрос Forbes.kz ответил старший вице-президент по маркетингу и про... → \n",
      " \n",
      " \n",
      "Глава МНЭ РК подтвердил, что действительно по некоторым направлениям есть очень значительный рост авиатарифов на внутренние перевозки, в частности, по направлениям Астана – Уральск и Астана - Алматы. \n",
      "- Наша служба - Комитет регулирования естественных монополий - пытается разобраться в себестоимости. К сожалению, компания отказывает в предоставлении данных, связанных с себестоимостью выполнения рейсов. Мы хотели направить официальный запрос в фонд «Самрук-Казына» и, соответственно, в дочернюю компанию по предоставлению всех отчетов, связанных с выполнением рейсов. После получения этих данных можно будет окончательно вынести решение: является ли повышение цены злоупотреблением монопольным положением и монопольно высокой ценой, - ответил в свою очередь Бишимбаев. \n",
      "- Я думаю, что вопрос получения информации - это не проблема. В рамках антимонопольного законодательства надо работать и довести работу до логического конца, чтобы мы точно понимали, в чём вопрос. Если всё объективно, никаких вопросов нет. Если какие-то субъективные моменты есть, к примеру, использование антимонопольного дохода, тогда надо в соответствии с законодательством принимать решение, - поручил Сагинтаев. \n",
      "Ранее сообщалось, что на «Эйр Астану» завели три административных дела из-за высоких цен на авиабилеты. С начала расследования на предмет установления монопольно высокой цены на услуги авиаперевозок антимонопольным органом в адрес авиакомпании «Эйр Астана» направлено три запроса о предоставлении информации и документов, на которые ответы не представлены либо представлены в неполном объеме, сообщает пресс-служба МНЭ РК.\n",
      "\n"
     ]
    }
   ],
   "source": [
    "print(data_X[217])"
   ]
  },
  {
   "cell_type": "code",
   "execution_count": 373,
   "metadata": {},
   "outputs": [
    {
     "name": "stdout",
     "output_type": "stream",
     "text": [
      "Алматы. 16 ноября. Центр информации. \"Черные\" старатели на рудниках \"Казахалтына\" совсем потеряли страх. Ущерб, причиняемый ими государству, исчисляется миллиардами. За последние пять лет задержано более 20 тысяч правонарушителей, но никто из них не понес уголовного наказания. Администрация золоторудного предприятия и госорганы уверены: такая активность — из-за безнаказанности, пишет Меруерт Алимова в Sputnik. \n",
      " \n",
      " \n",
      "\n",
      "Но что толкает людей в бездну золотых рудников, где под завалами гибнут десятки, сотни нелегальных золотодобывателей? Отсутствие денег и перспектив стали для этих людей сильнее инстинкта самосохранения.   \n",
      "\n",
      " \n",
      " \n",
      "\n",
      "Драка в Бестобе  \n",
      "\n",
      " \n",
      " \n",
      "\n",
      "Коллектив \"Казахалтын\" — более четырех тысяч человек, фабрики и три работающих рудника в Акмолинской области — в поселках Бестобе, Аксу и Жолымбет. Особенно активны \"черные\" старатели в Бестобе, из-за повышенного содержания там золота. В прошлом году общая товарная масса в компании составила 3,3 тонны золота, до 2019 года планируется довести общий объем до девяти тонн. \n",
      "В эпицентре скандала рудник в Бестобе оказался в июне этого года. \n",
      " \n",
      " \n",
      "\n",
      "Конфликт случился между рабочими и охраной: шахтеров разозлили грубость охраны и агрессивные требования предъявлять для досмотра личные вещи. В столкновении участвовали сотни человек, охрана применила огнестрельное дробовое оружие — двое оказались в больнице.  \n",
      "\n",
      " \n",
      " \n",
      "\n",
      "Вскоре ситуация на руднике стабилизировалась, но старатели и местные жители выставили руководству концерна в присутствии властей и правоохранительных органов несколько условий. Однако администрация отказала им в повышении заработной платы, смене руководства рудника и назначении охраны из местных жителей.  \n",
      "\n",
      " \n",
      " \n",
      "\n",
      "На работу — местных  \n",
      "\n",
      " \n",
      " \n",
      "\n",
      "Тем не менее, в ходе недавнего межведомственного совещания под председательством прокурора Акмолинской области Муратбека Исадилова, представители разных госструктур не раз подчеркивали: принимать на работу нужно в первую очередь местных жителей (население поселка Бестобе — более шести тысяч человек), в том числе и в охрану.  \n",
      "\n",
      " \n",
      " \n",
      "\n",
      "\"Не нам решать, кого набирать в штат частной компании, однако есть понятие социальной ответственности бизнеса. Социальную напряженность нужно снимать\", — подчеркнул прокурор.  \n",
      "\n",
      " \n",
      " \n",
      "\n",
      "Здесь уместно отметить, что, с точки зрения социальной политики, золотодобывающая компания выглядит достойно: это и перечисления в бюджет региона, и спонсорская помощь детсаду, и оснащение врачебной амбулатории в поселке Бестобе (рентген-аппарат, машина скорой помощи), и помощь в предстоящем ремонте печально знаменитой \"дороги смерти\" Заводской — Бестобе (концерн взял на себя подготовку проектно-сметной документации на 27 миллионов тенге). Но глазу простых сельчан, перебивающихся случайными заработками, такая глобальная помощь золотодобывающей компании не заметна.  \n",
      "\n",
      " \n",
      " \n",
      "\n",
      "Наглость — от безнаказанности \n",
      "Людей успокоили, фабрика продолжила работу, однако нет уверенности в том, что подобное не повторится, ведь последствия могут быть трагичней. Проблема нелегальной добычи, как стало известно из выступлений представителей прокуратуры, ДВД, руководства \"Казахалтына\", не только не \"утихает\", но набирает все большие обороты. \n",
      " \n",
      " \n",
      "\n",
      "\"За последние пять лет задержано более 20 тысяч старателей, которые добывали либо похищали золотосодержащую руду из объектов концерна. Однако к уголовной ответственности никто из них не привлечен, менее 1% понесли административную\", — отметил начальник первого управления по надзору за законностью в социально-экономической сфере прокуратуры области Еркебулан Жунусов.  \n",
      "\n",
      " \n",
      " \n",
      "\n",
      "Такая безнаказанность, по мнению генерального директора АО \"ГМК \"Казахалтын\" Евгения Балашова, развратила старателей.  \n",
      "\n",
      " \n",
      " \n",
      "\n",
      "\"Порой все происходит самым бандитским образом. В недавнем случае люди проникли в карьер, избили охранника и тех, кто пытался их остановить, — сказал он. — 14 килограмм золота — а это 560 тысяч долларов — изъяли в концерне за этот год, своими силами задержано восемь тысяч старателей\".  \n",
      "\n",
      " \n",
      " \n",
      "\n",
      "Полицейскими же изъято более 20 тонн золотосодержащей руды, пресечена деятельность 26 мини-цехов по переработке кварцевой руды. Причем в преступлениях нередко участвуют сами сотрудники службы безопасности, ведь один спуск и подъем превышают их месячную зарплату. Задержанные старатели признавались, что охрану легко подкупить. \n",
      "\"В сентябре возбуждено уголовное дело по статье 188 часть 2 УК РК (Кража, совершенная, группой лиц по предварительному сговору) в отношении начальника караула и охранника. Они неоднократно воровали с территории концерна золотосодержащую руду, в результате вышло на общую сумму — свыше 58 миллионов тенге\", — привел только один из примеров замначальника местной полицейской службы ДВД. \n",
      " \n",
      " \n",
      "\n",
      "Это моя земля  \n",
      "\n",
      " \n",
      " \n",
      "\n",
      "Проблема с нелегальным старательством, несомненно, имеет и социальные причины: кормилец с постоянной работой есть далеко не во всех семьях поселка.  \n",
      "\n",
      " \n",
      " \n",
      "\n",
      "\"Мне приходилось говорить с этими людьми. Им нужно кормить детей, учить. Оформить кредит, не имея стабильного дохода, невозможно, а брать в качестве залога их ветхие дома банки не хотят. С другой стороны, менталитет местных жителей… Они считают, золотодобывающий поселок — их родина, и поэтому они имеют право пользоваться ее богатствами\", — поделилась секретарь маслихата Степногорска Галия Копеева.  \n",
      "\n",
      " \n",
      " \n",
      "\n",
      "В акимате же Степногорска заверили: проблема трудоустройства в поселках региона власти держат на контроле. \n",
      "К примеру, в поселке Аксу, по информации замакима города Гульназ Абиловой, из почти четырех тысяч человек населения всего 220 зарегистрированы в качестве безработных, 155 — самозанятые. \n",
      " \n",
      " \n",
      "\n",
      "\"С начала года по вопросу трудоустройства обратились 60 безработных, из них трудоустроено на постоянные рабочие места 44 человека (73,3%), в том числе в АО \"ГМК \"Казахалтын\" — 26. Участниками программы \"Дорожная карта бизнеса 2020\" стали 15 сельчан. На общественные работы с начала года направлены 14 безработных\", — сообщила Гульназ Абилова. \n",
      "\n",
      " \n",
      " \n",
      "\n",
      "В поселке Бестобе — свыше 6,6 тысячи жителей, из них около четырех тысяч — трудоспособного возраста. \n",
      "\"С начала года по вопросу занятости обратился 91 безработный, из них трудоустроены на постоянную работу в филиал \"Рудник Бестобе\" 64 человека (70,3%). Еще 9 человек приняли участие в программе \"Дорожная карта бизнеса 2020\". В прошлом году четыре бестобинца получили микрокредиты на развитие животноводства. На организацию общественных работ из городского бюджета выделено 885,7 тысячи тенге; с начала года направлены четыре местных жителя\", — дополнила замглавы Степногорска. \n",
      " \n",
      " \n",
      "\n",
      "Однако от опасного, но легкого способа заработка бестобинцы не отказываются…  \n",
      "\n",
      " \n",
      " \n",
      "\n",
      "Действуем по плану!  \n",
      "\n",
      " \n",
      " \n",
      "\n",
      "Акмолинские власти, госорганы и сам концерн вместе разработали план, который, как они считают, поможет покончить с нелегальной добычей — меры законодательные, организационные и информационные.  \n",
      "\n",
      " \n",
      " \n",
      "\n",
      "В числе организационных один из главных пунктов — усилить укрепление на объектах. По словам гендиректора, \"Казахалтын\" в месяц охранным фирмам платит 117 миллионов тенге; устанавливаются дополнительные камеры видеонаблюдения, автоволоконные каналы и так далее.  \n",
      "\n",
      " \n",
      " \n",
      "\n",
      "\"В планах на будущий год — оснастить стволы шахт системами контроля доступа, досмотровыми комплексами, двойным ограждением, автоматическими датчиками обнаружения. На установку данной автоматизированной защиты рудника в Бестобе на 2017 год выделяется более 600 миллионов тенге\", — сообщает Балашов.  \n",
      "\n",
      " \n",
      " \n",
      "\n",
      "Предложены и серьезные поправки и дополнения в законы \"О драгоценных металлах и драгоценных камнях\", \"О разрешениях и уведомлениях\". В частности, урегулировать оборот, который приведет к снижению спроса на продукцию незаконных старателей: это обеспечит легальный оборот золота.  \n",
      "\n",
      " \n",
      " \n",
      "\n",
      "Кроме того, предлагается пересмотреть санкции ряда статей Уголовного кодекса, переведя из разряда проступков в преступления. А дополнения к статье \"Злоупотребление полномочиями сотрудников охранных компаний\" позволят привлечь к уголовной ответственности охранников, причастных к спуску \"черных\" старателей в шахты.  \n",
      "\n",
      " \n",
      " \n",
      "\n",
      "Все замечания и предложения будут учтены в окончательном варианте плана. И как призвал прокурор области, если каждое ведомство будет выполнять свою часть мероприятий, конец нелегальной добыче золота будет положен. \n",
      "\n",
      " \n",
      " \n",
      "\n",
      " \n",
      "\n"
     ]
    }
   ],
   "source": [
    "print(data_X[812])"
   ]
  },
  {
   "cell_type": "code",
   "execution_count": 374,
   "metadata": {},
   "outputs": [
    {
     "name": "stdout",
     "output_type": "stream",
     "text": [
      "В центре Усть-Каменогорска рухнул главный мост (Сегодня, 11:27), просмотров: 88 В Усть-Каменогорске рухнул мост через Иртыш, на нем находились 6 человек. Никто не упал в воду, один мужчина вывихнул ногу во время падения . \n",
      " \n",
      " Иртышский мост, расположенный в центре города, сейчас находится на реконструкции, во время которой демонтируют его старую часть. В ходе работ по демонтажу, часть моста рухнула, а вторая поднялась вверх. Находившиеся на месте происшествия четверо рабочих упали вниз, на мост, еще двое остались наверху, зацепившись за парапет. \n",
      " \"Очевидцы сообщили нам о пятерых людях, упавших в Иртыш, на место сразу же выехали спасатели, однако эта информация не подтвердилась\", - сообщила пресс-секретарь областного ДЧС Анастасия Скляр. - Люди упали вниз. На данный момент все спасены. Один из упавших внизу повредил ногу, остальные не пострадали\". \n",
      " \n",
      " В городском отделе ЖКХ сообщили, что обрушение произошло из-за того что не выдержала одна из старых опор, находившаяся в аварийном состоянии. \n",
      " \"Эта часть моста по проекту должна быть демонтирована. Аварийная опора не выдержала, произошел перевес пролетов и обрушение. Часть старого моста рухнула на берег, на отсыпку, вторая поднялась вверх\", - рассказал начальник отдела Аскар Жаксылыков. \"Работы по демонтажу продолжатся\", - добавил он. \n",
      " Иртышский мост в Усть-Каменогорске был построен в 1970 году, сейчас идет его капитальный ремонт. На время работ сохранен шестиполосный проезд. На обрушившейся части движения машин не происходило.   \n",
      " Последние |  По теме В Алматы назвали места сбора представителей нетрадиционных религиозных течений \n",
      "В Алматы проводится мониторинг мест, где могут собираться представители нет... Автомошенники выманивают с водителей деньги на «благие дела» \n",
      "Казахстанцы жалуются на участившиеся случаи автомобильного мошенничества!... Президент попросил объяснить, почему ипотека «Жилстройсбербанка» считается льготной \n",
      "Пока депутаты обсуждали переименование столицы, сам Нурсултан Назарбаев ... \n",
      "   Последние |  По теме Как будто произошло землетрясение - очевидец о ЧП на территории EXPO-2017 \n",
      "Сотрудник лифтовой компании, который проводил работы в павильонах выставо... Сотни тонн казахстанского лука могут сгнить из-за новых тарифов железной дороги \n",
      "Жамбылские крестьяне на грани банкротства. Сотни тонн лука могут пропасть... В чьих интересах введен утилизационный налог на автомобили? \n",
      "Сегодня автомобильный бизнес Казахстана раскудахтался, как обитатели куря... В алматинской школе на детей из одной семьи падают окна и плафоны \n",
      "В алматинской школе ученицу придавило окном. Преподаватель решила для п... На Казахстанской бирже рассказали, кто влияет на курс доллара \n",
      "Тенге второй день подряд укрепляется. По итогам дневной сессии на Казах... Потянет ли юань за собою тенге? \n",
      "Девальвация в Китае может усугубить ситуацию с ценами на сырье и курсом т... По факту обрушения моста в Алматы завели два уголовных дела \n",
      "Полиция возбудила два уголовных дела по факту обрушения моста в Алматы, соо... Главное, чтобы рейтинг стоял \n",
      "Отчего в Казахстане так любят составлять рейтинги? Какие-то эксперты опре... Экономический кризис в России пугает и одновременно радует казахстанцев \n",
      "С одной стороны, резкое падение рубля может ударить по позициям тенге, но... В Актобе свадебный Lexus с молодоженами упал в реку \n",
      "В центре Актобе произошла авария, в результате которой автомобиль Lexus, ... \n",
      " \n",
      " Комментарии: \n",
      " Нет комментариев. Почему бы Вам не оставить свой? \n",
      " \n",
      " Для того чтобы оставить комментарий зарегистрируйтесь и войдите на сайт под своим именем. Если Вы уже регистрировались то просто войдите на сайт под своим именем.\n",
      "\n"
     ]
    }
   ],
   "source": [
    "print(data_X[21])"
   ]
  },
  {
   "cell_type": "markdown",
   "metadata": {},
   "source": [
    "В данный кластер попали достаточно большие по объему тексты. Можно найти сходство и в тематике: все тексты содержат информацию о какой-либо кризисной ситуации или происшествии."
   ]
  },
  {
   "cell_type": "code",
   "execution_count": 375,
   "metadata": {},
   "outputs": [
    {
     "data": {
      "text/html": [
       "<div>\n",
       "<style scoped>\n",
       "    .dataframe tbody tr th:only-of-type {\n",
       "        vertical-align: middle;\n",
       "    }\n",
       "\n",
       "    .dataframe tbody tr th {\n",
       "        vertical-align: top;\n",
       "    }\n",
       "\n",
       "    .dataframe thead th {\n",
       "        text-align: right;\n",
       "    }\n",
       "</style>\n",
       "<table border=\"1\" class=\"dataframe\">\n",
       "  <thead>\n",
       "    <tr style=\"text-align: right;\">\n",
       "      <th></th>\n",
       "      <th>first</th>\n",
       "      <th>second</th>\n",
       "      <th>third</th>\n",
       "    </tr>\n",
       "  </thead>\n",
       "  <tbody>\n",
       "    <tr>\n",
       "      <th>646</th>\n",
       "      <td>0.346564</td>\n",
       "      <td>0.338644</td>\n",
       "      <td>0.051047</td>\n",
       "    </tr>\n",
       "    <tr>\n",
       "      <th>887</th>\n",
       "      <td>0.415890</td>\n",
       "      <td>0.432275</td>\n",
       "      <td>0.051497</td>\n",
       "    </tr>\n",
       "    <tr>\n",
       "      <th>935</th>\n",
       "      <td>0.351140</td>\n",
       "      <td>0.342839</td>\n",
       "      <td>0.051552</td>\n",
       "    </tr>\n",
       "  </tbody>\n",
       "</table>\n",
       "</div>"
      ],
      "text/plain": [
       "        first    second     third\n",
       "646  0.346564  0.338644  0.051047\n",
       "887  0.415890  0.432275  0.051497\n",
       "935  0.351140  0.342839  0.051552"
      ]
     },
     "execution_count": 375,
     "metadata": {},
     "output_type": "execute_result"
    }
   ],
   "source": [
    "dat.sort_values(by=[\"third\"]).head(3)"
   ]
  },
  {
   "cell_type": "code",
   "execution_count": 362,
   "metadata": {},
   "outputs": [
    {
     "name": "stdout",
     "output_type": "stream",
     "text": [
      "Решение о сделке облигациями «Бузгул Аурум» принималось ЕНПФ самостоятельно\n",
      " \n",
      "Решение о заключении сделки с облигациями ТОО «Бузгул Аурум» принималось в рамках самостоятельной операционной деятельности ЕНПФ на основании инвестиционного решения, принятого коллегиально инвестиционным комитетом ЕНПФ. Об этом в ходе брифинга сообщила председатель совета директоров АО «ЕНПФ» Дина Галиева, передает корреспондент Zakon.kz.\n",
      "По ее словам, ЕНПФ является самостоятельным юридическим лицом, которое как любой субъект предпринимательской деятельности, имеет на праве собственности имущество и может от своего имени приобретать и осуществлять имущественные и личные неимущественные права и обязанности».\n",
      "Таким образом, по ее словам, принятие инвестиционных решений в отношении собственного имущества ЕНПФ осуществляется им самостоятельно без получения каких-либо разрешений со стороны государственных органов, в случае если это прямо не предусмотрено законами Республики Казахстан.\n",
      "«Согласно Закону об акционерных обществах, совет директоров принимает решения по сделкам, объем которых составляет 25 и более процентов от общего размера балансовой стоимости активов общества, если иное не установлено уставом общества», - рассказала председатель совета директоров АО «ЕНПФ».\n",
      "«Сделка с облигациями ТОО «Бузгул Аурум» не относится к перечню крупных сделок, ввиду того, что объем сделки составляет 5,1 процента от собственных активов ЕНПФ (97,7 млрд. на 1 октября 2016 года)», - заключила Д. Галиева.\n",
      "Отметим, что согласно Закону РК «О пенсионном обеспечении», пенсионные активы - это деньги, ценные бумаги, иные финансовые инструменты, предназначенные для обеспечения и осуществления пенсионных выплат, переводов, а также иных целей, предусмотренных Законом.\n",
      "Инвестирование пенсионных активов осуществляется Национальным Банком по направлениям, одобренным Советом по управлению Национальным фондом РК, в финансовые инструменты, перечень которых утвержден Правительством РК. Пенсионные активы хранятся и учитываются на счетах в Национальном Банке.\n",
      " \n",
      "Кубатбек Туратбеков\n",
      " \n",
      "\n"
     ]
    }
   ],
   "source": [
    "print(data_X[887])"
   ]
  },
  {
   "cell_type": "code",
   "execution_count": 376,
   "metadata": {},
   "outputs": [
    {
     "name": "stdout",
     "output_type": "stream",
     "text": [
      "В АО «ЕНПФ» началась подготовка к кампании по ежегодному обязательному информированию вкладчиков о накоплениях за 2016 год, сообщает Today.kz со ссылкой на пресс-службу пенсионного фонда. В общей сложности финансовая структура информирует более четырех миллионов человек об их накоплениях. \n",
      " «Около 2,6 миллиона человек могут получить выписки за прошедший год посредством интернет-связи (через сайт или мобильное приложение ENPF). Около двух миллионов вкладчиков получат выписки посредством почтовой связи, 206 349 клиентов ЕНПФ узнают о своих накоплениях посредством электронной почты. При этом каждый вкладчик может получить информацию о состоянии своих пенсионных накоплений при личном обращении в ЕНПФ», — отметили в организации. \n",
      " Информация о состоянии индивидуального пенсионного счета предоставляется бесплатно, а способ получения можно выбрать самостоятельно. \n",
      " «Выписки будут высланы на адреса, в том числе и адреса электронной почты, указанные вкладчиками в заявлении об открытии пенсионного счета. (…) Если вкладчик или получатель поменял место жительства и до 31 декабря прошлого года не уведомил об этом фонд, то его выписка за 2016 год, направленная по почте, будет возвращена в ЕНПФ. Кроме того, в этом случае ЕНПФ имеет право, согласно действующему пенсионному законодательству, на следующий год выписку не отправлять», — сообщили подробности представители госфонда. \n",
      " При этом в фонде подчеркнули, что около 1,6 миллиона вкладчиков не получают выписки из-за того, что у них не определен способ информирования. \n",
      " «Специалисты ЕНПФ рекомендуют вкладчикам обратиться в центры персонального обслуживания фонда для актуализации своих персональных данных и/или выбора нового способа информирования», — заключили в пресс-службе организации. \n",
      " Напомним, общая сумма пенсионных накоплений по состоянию на 1 декабря 2016 года составила 6,640 триллиона тенге. С начала 2016 года объем накоплений на старость увеличился на 808,7 миллиарда тенге. Доходность по пенсионным активам ЕНПФ по итогам 11 месяцев 2016 года составила 8,15 процента при уровне инфляции за аналогичный период 7,5 процента.По сообщению сайта Tobolinfo \n",
      "\n",
      " Читайте также БРК получит из пенсионных накоплений 65 млрд тенге... Казахстанские банки профинансированы из средств ЕН... Нацбанк рассказал о результатах инвестиционного уп... Сколько денег прибудет в ЕНПФ... Доходность ЕНПФ оказалась выше уровня инфляции... Подробности громкого дела о растрате в ЕНПФ раскры... Сумма пенсионных накоплений казахстанцев превысила... Почему инвестдоход вкладчиков ЕНПФ в январе ушел в... Поделится в WhatsApp\n",
      "\n"
     ]
    }
   ],
   "source": [
    "print(data_X[646])"
   ]
  },
  {
   "cell_type": "code",
   "execution_count": 377,
   "metadata": {},
   "outputs": [
    {
     "name": "stdout",
     "output_type": "stream",
     "text": [
      "Как и следовало ожидать, минувший год, к концу которого грянул скандал вокруг «ЕНПФ» и Нацбанка, управляющего госпакетом акций этого монополиста, оказался весьма неудачным по результатам инвестирования пенсионных накоплений. \n",
      "\n",
      " Минусы перевесили плюсы \n",
      "\n",
      "Если по итогам 2015 года Нацбанк заработал для будущих пенсионеров страны в виде начисленного инвестиционного дохода 820,3 млрд тенге, то за 2016 год значение этого показателя сократилось более чем в полтора раза — до 531,0 млрд тенге. В абсолютном выражении, как нетрудно подсчитать, инвестдоход снизился на внушительную сумму в 289,3 млрд тенге, которую вкладчикам ЕНПФ никто не вернет. А \n",
      "\n",
      "из расчета на один индивидуальный пенсионный счет в «ЕНПФ» потери по сравнению с 2015 годом составили порядка 29 тысяч тенге \n",
      "\n",
      "Плачевно закончился и декабрь, на который пришелся пик скандальных событий вокруг ЕНПФ — после оглашения предварительных результатов расследования чекистов лишь одной из инвестиционных сделок, ареста причастных к ней топ-менеджеров этой госкомпании и экстренной смены ее руководства. Как следует из информации, опубликованной на сайте ЕНПФ о результатах инвестиционного управления пенсионными активами Нацбанком, \n",
      "\n",
      "за последний месяц 2016 года вместо инвестиционного дохода сложился убыток почти в минус 9 млрд тенге \n",
      "\n",
      "Этот негативный результат сложился под влиянием курсовой политики, проводимой Нацбанком. Укрепление тенге к доллару принесло ЕНПФ отрицательную курсовую разницу в минус 33,1 млрд тенге. Еще 2 млрд тенге убытков дала переоценка ценных бумаг в портфеле ЕНПФ. Эти два «минуса» перевесили «плюс» в 26,2 млрд тенге, полученный в виде вознаграждения по ценным бумагам, размещенным банковским вкладам и операциям «обратное РЕПО». Структура инвестиционного дохода/убытка «ЕНПФ» \n",
      "\n",
      " \n",
      "\n",
      "  \n",
      "\n",
      "Нацбанк не отпускает ЕНПФ, чтобы не допустить реформы «пенсионки»? \n",
      "\n",
      " Если Нацбанк проведет девальвацию… \n",
      "\n",
      "Поражает то обстоятельство, что заведомо идя на укрепление тенге при выросших нефтяных ценах, Нацбанк одновременно активно наращивал долларовую часть в инвестиционном портфеле ЕНПФ. Таковая выросла за 2016 год почти на 57% в тенговом эквиваленте, до 1,492 трлн тенге. Значительно увеличилась и его часть, номинированная в английских фунтах стерлингов (75,2%) и российских рублях (19,8%), тогда как тенговая часть выросла лишь на 6,2%. \n",
      "\n",
      "С другой стороны, \n",
      "\n",
      "если Нацбанк проведет очередную девальвацию тенге в ближайшее время, то ему удастся выправить ситуацию с инвестиционным доходом \n",
      "\n",
      "как раз за счет инвалютной части инвестпортфеля «ЕНПФ», которая даст положительную курсовую разницу. Структура пенсионных активов «ЕНПФ», находящихся в управлении Национальным банком РК, в разрезе валют \n",
      "\n",
      " \n",
      "\n",
      "  \n",
      "\n",
      "Девальвация 2017: предупреждения Bloomberg и предчувствия аналитиков\n",
      "\n"
     ]
    }
   ],
   "source": [
    "print(data_X[935])"
   ]
  },
  {
   "cell_type": "markdown",
   "metadata": {},
   "source": [
    "В этот кластер вошли тексты среднего объема, которые каким-либо образом связаны с ЕНПФ."
   ]
  },
  {
   "cell_type": "markdown",
   "metadata": {},
   "source": [
    "# Задача 2"
   ]
  },
  {
   "cell_type": "markdown",
   "metadata": {},
   "source": [
    "Проведем кластеризацию на 2 класса, предварительно удалив из выборки нейтральные отзывы."
   ]
  },
  {
   "cell_type": "code",
   "execution_count": 344,
   "metadata": {},
   "outputs": [
    {
     "data": {
      "text/plain": [
       "(1000, 100)"
      ]
     },
     "execution_count": 344,
     "metadata": {},
     "output_type": "execute_result"
    }
   ],
   "source": [
    "data_2 = data.drop(data[data['y'] == 0].index)\n",
    "\n",
    "data_Y_2 = data['y'].values\n",
    "data_X_2 = data['text'].values\n",
    "\n",
    "from sklearn.feature_extraction.text import TfidfVectorizer\n",
    "\n",
    "vectorizer = TfidfVectorizer()\n",
    "vectorizer.fit(data_X_2)\n",
    "X_2 = vectorizer.transform(data_X_2)\n",
    "\n",
    "from sklearn.decomposition import TruncatedSVD\n",
    "\n",
    "svd = TruncatedSVD(n_components=100, n_iter=7, random_state=42)\n",
    "X_reduced_2 = svd.fit_transform(X_2)\n",
    "X_reduced_2.shape"
   ]
  },
  {
   "cell_type": "code",
   "execution_count": 345,
   "metadata": {},
   "outputs": [],
   "source": [
    "model = KMeans(n_clusters=2, random_state=42)\n",
    "preds = model.fit_predict(X_reduced_2)"
   ]
  },
  {
   "cell_type": "code",
   "execution_count": 346,
   "metadata": {},
   "outputs": [],
   "source": [
    "from sklearn.metrics import pairwise_distances\n",
    "\n",
    "dist = pairwise_distances(X_reduced_2, model.cluster_centers_)"
   ]
  },
  {
   "cell_type": "code",
   "execution_count": 347,
   "metadata": {},
   "outputs": [],
   "source": [
    "index = []\n",
    "\n",
    "first = [] \n",
    "second = []\n",
    "\n",
    "for i, vec in enumerate(dist):\n",
    "    index.append(i)\n",
    "    first.append(vec[0])\n",
    "    second.append(vec[1])"
   ]
  },
  {
   "cell_type": "markdown",
   "metadata": {},
   "source": [
    "Выведем наиболее типичные для каждого класса тексты."
   ]
  },
  {
   "cell_type": "code",
   "execution_count": 348,
   "metadata": {},
   "outputs": [],
   "source": [
    "d = pd.DataFrame({\"first\":first,\"second\":second}, index = index)"
   ]
  },
  {
   "cell_type": "code",
   "execution_count": 349,
   "metadata": {},
   "outputs": [
    {
     "data": {
      "text/html": [
       "<div>\n",
       "<style scoped>\n",
       "    .dataframe tbody tr th:only-of-type {\n",
       "        vertical-align: middle;\n",
       "    }\n",
       "\n",
       "    .dataframe tbody tr th {\n",
       "        vertical-align: top;\n",
       "    }\n",
       "\n",
       "    .dataframe thead th {\n",
       "        text-align: right;\n",
       "    }\n",
       "</style>\n",
       "<table border=\"1\" class=\"dataframe\">\n",
       "  <thead>\n",
       "    <tr style=\"text-align: right;\">\n",
       "      <th></th>\n",
       "      <th>first</th>\n",
       "      <th>second</th>\n",
       "    </tr>\n",
       "  </thead>\n",
       "  <tbody>\n",
       "    <tr>\n",
       "      <th>695</th>\n",
       "      <td>0.153021</td>\n",
       "      <td>0.404357</td>\n",
       "    </tr>\n",
       "    <tr>\n",
       "      <th>103</th>\n",
       "      <td>0.167305</td>\n",
       "      <td>0.413050</td>\n",
       "    </tr>\n",
       "    <tr>\n",
       "      <th>445</th>\n",
       "      <td>0.179941</td>\n",
       "      <td>0.417834</td>\n",
       "    </tr>\n",
       "  </tbody>\n",
       "</table>\n",
       "</div>"
      ],
      "text/plain": [
       "        first    second\n",
       "695  0.153021  0.404357\n",
       "103  0.167305  0.413050\n",
       "445  0.179941  0.417834"
      ]
     },
     "execution_count": 349,
     "metadata": {},
     "output_type": "execute_result"
    }
   ],
   "source": [
    "d.sort_values(by=[\"first\"]).head(3)"
   ]
  },
  {
   "cell_type": "code",
   "execution_count": 234,
   "metadata": {},
   "outputs": [
    {
     "name": "stdout",
     "output_type": "stream",
     "text": [
      "Министр образования и науки Ерлан Сагадиев настаивает на сохранении предмета «История Казахстана» в тестовых заданиях ЕНТ. Об этом он заявил, представляя новый формат ЕНТ во время заседания правительства. \n",
      "\n",
      "«Наиболее часто озвучивались два предложения. Я хочу озвучить их и позицию МОН. Первое, убрать предмет «История Казахстана» из ЕНТ. Действительно, сегодня сдается два раза — в школе и на ЕНТ. Мы считаем, что его надо оставить, поскольку, по мнению общественности, предмет очень важный и в ЕНТ он должен быть. Второе, освободить обладателей «Алтын белги», а также победителей и призеров различных олимпиад и конкурсов, научных проектов от ЕНТ. Мы это предложение также не поддержали. Считаем, что ЕНТ должны сдавать все», — сообщил Ерлан Сагадиев. \n",
      "\n",
      "Он также отметил, что ЕНТ выполняет свою функцию в качестве завершающего школьного экзамена. \n",
      "\n",
      "«В ЕНТ никогда не принимало участие 100 процентов выпускников. Также с каждым годом увеличивается количество детей, не участвующих в ЕНТ. Их количество достигло 30 процентов. Не раз это отмечалось, что ЕНТ является тестом очень высоких ставок, сопровождающихся повышенной психологической нагрузкой для учащихся. В связи с этим МОН велась работа по двум направлениям. Первое, это разделение экзаменов на выпускные экзамены и сам ЕНТ. ЕНТ предложено оставить как вступительный в высшие учебные заведения, как систему распределения госгрантов», — отметил глава ведомства. \n",
      "\n",
      "«Второе, это измененная структура самого ЕНТ. МОН провело большую аналитическую работу, включая более 30 совещаний с учителями, специалистами и родителями. Как результат этой работы, МОН принято решение о разделении ЕНТ на два этапа. Итоговая аттестация как выпускной экзамен в школах и ЕНТ как вступительный экзамен в вузах. Итоговая аттестация в школах по пяти предметам, включая четыре обязательных и один по выбору», — добавил Ерлан Сагадиев. \n",
      "\n",
      "Ранее в Министерстве образования и науки презентовали новый формат ЕНТ. В нем появилась проверка грамотности чтения как обязательный предмет. \n",
      "\n",
      "http://kazday.kz/2016/11/22/sagadiev-opredelil-svoyu-poziciyu-po-predmetu-istoriya-kazakhstana/\n",
      "\n"
     ]
    }
   ],
   "source": [
    "print(data_X[695])\n"
   ]
  },
  {
   "cell_type": "code",
   "execution_count": 235,
   "metadata": {
    "scrolled": false
   },
   "outputs": [
    {
     "name": "stdout",
     "output_type": "stream",
     "text": [
      "АКТАУ. КАЗИНФОРМ - Методы, уже применявшиеся во время существования Советского союза, предлагает возродить мангистауский биолог, член Казахстанской ассоциации сохранения биоразнооразия (АСБК) Адильбек Козыбаков.  В целом он высказывается о необходимости реформирования природоохранной системы Казахстана. «Усилий одних только госструктур явно недостаточно: здесь нужен комплексный подход с обязательным вовлечением в природоохранную деятельность как самих природопользователей, так и местного населения. Сейчас ситуация такова: вскроют инспекторы факты браконьерства или нет - на размер зарплаты это не влияет. А 30 лет назад инспектор, задержавший браконьера «с поличным», на законных основаниях получал 37% от суммы, уплаченной нарушителем в бюджет. Если бы эта сумма распределялась между участниками поимки браконьеров, то от желающих охранять природу отбоя бы не было. Да и брать взятку с браконьера стало бы невыгодно - инспектора могли бы неплохо зарабатывать всего лишь исправно выполняя свою работу», - отметил А. Козыбаков. Биолог предлагает, для начала,  чтобы в корне изменить действующую в Казахстане природоохранную систему, пересмотреть перечень мероприятий по охране окружающей среды, утверждаемый уполномоченным органом для исполнения природопользователями первой категории хозяйственной деятельности (по уровню экологической опасности), в части охраны флоры и фауны. Известно, что за последние несколько десятков лет в Мангистауской области исчезли казахстанский кулан и закаспийский гепард, на грани вымирания находятся акклиматизированный в середине 1990-х годов туркменский кулан и устюртская популяция сайги, сокращаются популяции осетровых рыб и тюленя. Независимый эколог убежден - если все компании первой категории будут обязаны проводить мероприятия по реальному уменьшению воздействия на растительный и животный мир, то в недалеком будущем (в комплексе с усилением борьбы с браконьерством со стороны соответствующих госструктур) в Мангистау станет вполне возможным восстановить нарушенную среду обитания и былую численность кулана, устюртского горного барана, джейрана, сайгака, каспийского тюленя, осетровых рыб и т. д. «Утрата этих видов животных будет способствовать обеднению биоразнообразия и нарушению природного баланса. На ресурсы животного мира негативно влияют браконьерская охота и техногенные факторы, изменяющие и сокращающие среду обитания. При этом от деятельности нефтегазовых, промышленных предприятий и их сервисных организаций, от прокладки трубопроводов, автомобильных и железных дорог вреда наносится намного больше, чем от единичных случаев браконьерства», - разъяснил А.Козыбаков. Сейчас Адильбек работает в тандеме  с руководством специализированного центра «Колдау-Экология» многопрофильного некоммерческого холдинга «Колдау-Казахстан». Вместе независимые экологи намерены организовать экологический семинар в ботаническом саду, а также выехать на озеро Караколь - одну их ключевых орнитологических территорий Казахстана. На этом водно-болотное угодье, возникшем около полувека назад в результате производственной деятельности ТОО «МАЭК-Казатомпром», в разные сезоны года обитает, по разным оценкам, от 80 до 175 видов водоплавающих и околоводных птиц, из которых более 20 занесены в Красную книгу Казахстана. Это лебедь-кликун, кудрявый и розовый пеликаны, желтая, египетская и малая белая цапли, фламинго, колпица, каравайка, журавль-красавка, черноголовый хохотун, орлан белохвост и т. д.  Правда, уточняют экологи, выезд на Караколь будет организован только в том случае, если крупные компании, деятельность которых представляет потенциальную угрозу биоразнообразию, отнесутся к этой инициативе ответственно. «Мы уже организовывали экологический семинар. Планировалось, что участвовать в его работе будет не менее 40 представителей природопользователей первой категории. Участие в семинаре было платным - 18 тысяч тенге с человека. В итоге все они отказались. Достучаться до руководителей этих компаний мы пытаемся с момента согласования уполномоченными органами программы семинара, рассчитанного на 2015-2019 годы, то есть уже второй год. В прошлом году из полутора десятка крупных компаний, приглашенных нами, участие в семинаре подтвердила лишь одна - АО «НК «Актауский международный морской торговый порт», - высказалась исполняющая обязанности руководителя СЦ «Колдау-Экология» Гульмира Газизова.\n"
     ]
    }
   ],
   "source": [
    "print(data_X[103])"
   ]
  },
  {
   "cell_type": "code",
   "execution_count": 236,
   "metadata": {},
   "outputs": [
    {
     "name": "stdout",
     "output_type": "stream",
     "text": [
      "В рамках XVI Всероссийского энергетического форума состоялось несколько конкурсов на лучшую технологию, оборудование, продукцию и научные разработки. АО «БЭСК» помимо того, что выступило в качестве генерального спонсора и организатора нескольких актуальных тематических секций, также приняло участие в одной из самых престижных номинаций конкурса «Оригинальное оформление стенда». По решению конкурсной комиссии предприятие было признано победителем и награждено дипломом I степени Министерства промышленности и инновационной политики Республики Башкортостан. Это стало констатацией того факта, что стенд компании на протяжении всех четырех дней работа энергофорума пользовался наибольшим вниманием со стороны посетителей. Пространственно-цветовое решение выделяло его на фоне стендов других компаний: он был не просто выше и больше по площади, но и более функционален и креативен. \n",
      "\n",
      "Своеобразной «изюминкой», креативной находкой стенда АО «БЭСК» стало применение 3D-технологий. Всем желающим выдавались специальные трехмерные очки, благодаря которым посетители стенда могли ознакомиться с новейшими достижениями в российской энергетике на примере передовых технологий Башкирской электросетевой компании. Гостям форума была представлена уникальная возможность, не выходя из здания ВДНХ, совершить виртуальное путешествие по расположенному на расстоянии восьми километров Центру управления сетями (ЦУС) ПО «УГЭС» ООО «Башкирэнерго» – одному из наиболее технологичных энергообъектов в отечественной электроэнергетике. \n",
      "\n",
      "Производственная часть экспозиции была занята «умной» ячейкой ООО «БЭСК Инжиниринг», сборка которых по соглашению с концерном «Сименс» локализована в Уфе в рамках проекта модернизации электросетевого комплекса г. Уфы с применением элементов Smart Grid. \n",
      "\n",
      "На снимке: заместитель Премьер-министра Правительства Башкортостана Дмитрий Шаронов, надев специальные трехмерные очки, совершает виртуальную экскурсию по Центру управления сетями. \n",
      "\n",
      "  \n",
      "\n",
      "  \n",
      "\n",
      " \n",
      "\n"
     ]
    }
   ],
   "source": [
    "print(data_X[445])"
   ]
  },
  {
   "cell_type": "code",
   "execution_count": 237,
   "metadata": {},
   "outputs": [
    {
     "data": {
      "text/html": [
       "<div>\n",
       "<style scoped>\n",
       "    .dataframe tbody tr th:only-of-type {\n",
       "        vertical-align: middle;\n",
       "    }\n",
       "\n",
       "    .dataframe tbody tr th {\n",
       "        vertical-align: top;\n",
       "    }\n",
       "\n",
       "    .dataframe thead th {\n",
       "        text-align: right;\n",
       "    }\n",
       "</style>\n",
       "<table border=\"1\" class=\"dataframe\">\n",
       "  <thead>\n",
       "    <tr style=\"text-align: right;\">\n",
       "      <th></th>\n",
       "      <th>first</th>\n",
       "      <th>second</th>\n",
       "    </tr>\n",
       "  </thead>\n",
       "  <tbody>\n",
       "    <tr>\n",
       "      <th>887</th>\n",
       "      <td>0.521903</td>\n",
       "      <td>0.292112</td>\n",
       "    </tr>\n",
       "    <tr>\n",
       "      <th>942</th>\n",
       "      <td>0.462084</td>\n",
       "      <td>0.316510</td>\n",
       "    </tr>\n",
       "    <tr>\n",
       "      <th>728</th>\n",
       "      <td>0.568837</td>\n",
       "      <td>0.329802</td>\n",
       "    </tr>\n",
       "  </tbody>\n",
       "</table>\n",
       "</div>"
      ],
      "text/plain": [
       "        first    second\n",
       "887  0.521903  0.292112\n",
       "942  0.462084  0.316510\n",
       "728  0.568837  0.329802"
      ]
     },
     "execution_count": 237,
     "metadata": {},
     "output_type": "execute_result"
    }
   ],
   "source": [
    "d.sort_values(by=[\"second\"]).head(3)"
   ]
  },
  {
   "cell_type": "code",
   "execution_count": 238,
   "metadata": {},
   "outputs": [
    {
     "name": "stdout",
     "output_type": "stream",
     "text": [
      "Решение о сделке облигациями «Бузгул Аурум» принималось ЕНПФ самостоятельно\n",
      " \n",
      "Решение о заключении сделки с облигациями ТОО «Бузгул Аурум» принималось в рамках самостоятельной операционной деятельности ЕНПФ на основании инвестиционного решения, принятого коллегиально инвестиционным комитетом ЕНПФ. Об этом в ходе брифинга сообщила председатель совета директоров АО «ЕНПФ» Дина Галиева, передает корреспондент Zakon.kz.\n",
      "По ее словам, ЕНПФ является самостоятельным юридическим лицом, которое как любой субъект предпринимательской деятельности, имеет на праве собственности имущество и может от своего имени приобретать и осуществлять имущественные и личные неимущественные права и обязанности».\n",
      "Таким образом, по ее словам, принятие инвестиционных решений в отношении собственного имущества ЕНПФ осуществляется им самостоятельно без получения каких-либо разрешений со стороны государственных органов, в случае если это прямо не предусмотрено законами Республики Казахстан.\n",
      "«Согласно Закону об акционерных обществах, совет директоров принимает решения по сделкам, объем которых составляет 25 и более процентов от общего размера балансовой стоимости активов общества, если иное не установлено уставом общества», - рассказала председатель совета директоров АО «ЕНПФ».\n",
      "«Сделка с облигациями ТОО «Бузгул Аурум» не относится к перечню крупных сделок, ввиду того, что объем сделки составляет 5,1 процента от собственных активов ЕНПФ (97,7 млрд. на 1 октября 2016 года)», - заключила Д. Галиева.\n",
      "Отметим, что согласно Закону РК «О пенсионном обеспечении», пенсионные активы - это деньги, ценные бумаги, иные финансовые инструменты, предназначенные для обеспечения и осуществления пенсионных выплат, переводов, а также иных целей, предусмотренных Законом.\n",
      "Инвестирование пенсионных активов осуществляется Национальным Банком по направлениям, одобренным Советом по управлению Национальным фондом РК, в финансовые инструменты, перечень которых утвержден Правительством РК. Пенсионные активы хранятся и учитываются на счетах в Национальном Банке.\n",
      " \n",
      "Кубатбек Туратбеков\n",
      " \n",
      "\n"
     ]
    }
   ],
   "source": [
    "print(data_X[887])"
   ]
  },
  {
   "cell_type": "code",
   "execution_count": 239,
   "metadata": {},
   "outputs": [
    {
     "name": "stdout",
     "output_type": "stream",
     "text": [
      "В 2014 году при объединении пенсионных фондов Казахстана портфель АО \"Единый накопительный пенсионный фонд\" пополнился бумагами 32 дефолтных эмитентов на сумму 161,45 миллиарда тенге, сообщили в ЕНПФ в ответ на официальный запрос редакции Today.kz. Большинство проблемных компаний выплатили фонду стоимость ценных бумаг и часть вознаграждения по ним.  \n",
      "\n",
      "\"С 2014 года задолженность по номинальной стоимости снизилась бумаг снизилась до 36,45 миллиарда тенге, количество проблемных эмитентов сократилось с 32 до 19 компаний: по двум компаниям задолженность полностью погашена, по четырем структурам произведено списание финансовых инструментов в связи с завершением процедуры банкротства и ликвидацией, по семи компаниям задолженность реструктурирована. В настоящий момент фонд осуществляет работу по возврату задолженности по номинальной стоимости 40,5 миллиарда тенге в отношении 21 эмитента, допустившего дефолт, чьи финансовые инструменты входят в состав пенсионных активов\", - пояснили в ЕНПФ. \n",
      " \n",
      "\n",
      "В государственном фонде сообщили, что проблемные ценные бумаги приобреталась не только небольшими частными пенсионным фондами, но и лидерами рынка пенсионных накоплений. Так, облигации АО \"Казахстан Кагазы\" пополняли портфель ЕНПФ с октября 2013 года по июнь 2014 года. \n",
      "\n",
      "\"В частности, облигации этого эмитента были переданы следующими НПФ - АО НПФ \"Астана\", АО \"НПФ \"ГРАНТУМ\", АО \"ГНПФ\", АО \"НПФ \"Капитал\", АО \"ОНПФ \"Отан\", АО НПФ \"НефтеГазДем\", АО НПФ \"ҰларYмiт\". Облигации АО \"Казахстан Кагазы\" были приобретены вышеуказанными НПФ в период с 2005 по 2008 годы\", - привели пример в пресс-службе ЕНПФ. Акционерное общество \"Казахстан Кагазы\" владеет самым крупным в Центральной Азии бумажным комбинатом, и в настоящий момент структура должна ЕНПФ 12,5 миллиарда тенге. \n",
      "\n",
      "\"По этим облигациям сформированы резервы (провизии) в размере 100 процентов (Провизия - вынужденный целевой расход ЕНПФ для покрытия дефолта эмитента - Прим. автора). 8 июня 2016 года постановлением судебной коллегии по гражданским делам Алматинского областного суда началась процедура реабилитации бумажного комбината. При участии фонда был разработан и составлен проект плана реабилитации АО \"Казахстан Кагазы\", - рассказали в ЕНПФ. Процедура реабилитации рассчитана на пятилетний срок. \n",
      "\n",
      "\"В течение пяти лет АО \"Казахстан Кагазы\" должно погасить задолженность перед кредиторами и предоставить дополнительное обеспечение. В соответствии с планом реабилитации, ожидаемая сумма выплат эмитента в пользу ЕНПФ в 2017 году составляет около 10 миллиардов тенге. Аналогичные или похожие процессы в настоящее время проходят во всех эмитентах должников ЕНПФ\", - отметили в фонде. \n",
      "\n",
      "По состоянию на 1 января текущая стоимость портфеля пенсионных активов ЕНПФ составила 6 триллионов 689,66 миллиарда тенге. При этом доходность накоплений на старость равна 7,95 процента. \n",
      "\n",
      "Ранее в ЕНПФ сообщили, что в структуре началась подготовка к кампании по ежегодному обязательному информированию вкладчиков о накоплениях за 2016 год.\n",
      "\n"
     ]
    }
   ],
   "source": [
    "print(data_X[942])"
   ]
  },
  {
   "cell_type": "code",
   "execution_count": 240,
   "metadata": {},
   "outputs": [
    {
     "name": "stdout",
     "output_type": "stream",
     "text": [
      "Пенсионный «ларчик» Нацбанка Подробности 33 27.12.2016 Тулеген АСКАРОВ, Айдын ДАИРБЕКОВ View Comments \n",
      "\n",
      "Значительное снижение инвестиционного дохода по пенсионным накоплениям казахстанцев к концу уходящего года превратилось в настоящую финансовую драму, ставшую объектом пристального внимания правоохранительных органов. \n",
      "\n",
      " \n",
      "\n",
      "В этой драме, как уже не раз отмечалось, главным отрицательным персонажем выступает центральный банк страны, управляющий этой огромной массой денег, принадлежащих не государству, а миллионам вкладчиков «ЕНПФ». Проблема заключается еще и в том, что у Нацбанка как регулятора финансового рынка при этом возникает серьезный конфликт интересов, в результате которого он особо не заинтересован в росте доходности по пенсионным накоплениям, как и в надлежащем контроле за инвестированием этих средств. Об этом говорилось и в материале «Без стабильного тенге пенсии превращаются в ничто», опубликованном «365info.kz» в конце октября. Там же отмечалось, что с месячного максимума в 117,4 млрд. тенге, достигнутого в июле, затем началось резкое снижение инвестиционного дохода по пенсионным активам «ЕНПФ». Как теперь выясняется, эти значительные финансовые потери вызваны не только колебаниями курса тенге к доллару и курсовой политикой Нацбанка, но и продолжающимся инвестированием пенсионных накоплений в рискованные финансовые инструменты, дающие вместо дохода убытки. \n",
      "\n",
      " \n",
      "\n",
      "Напомним, что когда активы частных пенсионных фондов спешно передавались в «ЕНПФ», то в наследство от них Нацбанку достался огромный портфель проблемных «мусорных» облигаций. Почему регулятор принял это «токсичное» наследство, правоохранительные органы тогда так и не выяснили, хотя со слов занимавшего в ту пору пост председателя Нацбанка Кайрата Келимбетова, все необходимые для расследования документы были переданы силовикам. В итоге в сентябре 2014 года Нацбанк спокойно списал со счетов вкладчиков «ЕНПФ» 100 млрд. тенге! Примечательно, что пока Нацбанк был собственником предшественника «ЕНПФ» - накопительного пенсионного фонда «ГНПФ», то такие финансовые трюки не производились. А после того, как на базе «ГНПФ» в результате передачи госпакета акций Минфину был создан «ЕНПФ», у Нацбанка как доверительного управляющего пенсионными накоплениями появилась полная свобода для финансового маневра. Ведь самого себя ему контролировать было ни к чему, поскольку хозяин, как известно, и есть барин! \n",
      "\n",
      " \n",
      "\n",
      "Как и следовало ожидать, отсутствие должного контроля со стороны Нацбанка за инвестированием пенсионных накоплений привело к очередному их уводу через все ту же схему с использованием «мусорных» облигаций. По информации, которой располагает редакция «365info.kz», компетентные органы уже установили факт хищения денежных средств «ЕНПФ» в сумме 5 млрд. тенге путем их инвестирования в облигации ТОО «Бузгул Аурум» с последующим размещением полученных средств этим эмитентом в одном из банков второго уровня. А там они сразу же были списаны в счет просроченного кредита, который получил в этом банке учредитель ТОО. \n",
      "\n",
      "Примечательно, что по имеющейся у редакции информации рисковики «ЕНПФ» вынесли отрицательное заключение по предложению приобрести облигации ТОО, рекомендовав воздержаться от инвестирования в них из-за высоких кредитных и проектных рисков. Ведь ТОО «Бузгул Аурум» намеревалось вложить средства, полученные от размещения облигаций, в добычу золота на одноименных месторождениях, а там требовалось еще уточнить данные по запасам. При этом результат дополнительных разведочных работ мог оказаться и отрицательным, показав экономическую нецелесообразность коммерческой добычи. \n",
      "\n",
      "Но, вопреки отрицательному заключению рисковиков, предложение о приобретении облигаций ТОО, подготовленное аналитиками другого департамента - инвестиционного анализа, в конце сентября поступило на рассмотрение Инвестиционного комитета \n",
      " «ЕНПФ», который и одобрил его. В результате в начале октября через Казахстанскую фондовую биржу (KASE) было приобретено 500 тысяч облигаций ТОО на сумму в 5 млрд. тенге. При этом из информации на сайте KASE следует, что в торгах участвовал всего один участник, подавший одну заявку на всю указанную сумму. Не удивительно, что в результате раскрытия такой сомнительной схемы появилась информация об обысках в офисе «ЕНПФ», проведенных силовиками. При этом на протяжении всей этой истории на сайте Нацбанка, управляющего пенсионными активами «ЕНПФ», каких-либо комментариев по этому поводу не публиковалось. \n",
      "\n",
      "Получается довольно неприглядная картина: ведь в то время, как регулятор и его руководитель Данияр Акишев занимают жесткую позицию в отношении банков второго уровня, постоянно затягивая «гайки» регуляторных требований к ним, в подконтрольной Нацбанку «пенсионке» вполне спокойно расхищаются накоплений вкладчиков «ЕНПФ». Более того, по полученной редакцией информации, после того, как вскрылась описанная выше схема увода пенсионных накоплений, сам г-н Акишев отказался писать заявление в правоохранительные органы по этому факту, аргументируя свою позицию некими репутационными рисками для Нацбанка. Но в таком случае непонятно, сколько же еще миллиардов пенсионных накоплений должно быть похищено, чтобы главный банкир страны, наконец-то, решительно встал на защиту интересов вкладчиков «ЕНПФ» и призвал бы расхитителей их средств к ответу в суде?! \n",
      "\n",
      " ПОД ТЕКСТ \n",
      "\n",
      " \n",
      " Айдын ДАИРБЕКОВ \n",
      "\n",
      "Где правда про пенсионные деньги? \n",
      "\n",
      "Читая последние статьи опровержения, возникшие вокруг скандала с хищением денег ЕНПФ, у меня складывается впечатление, что Национальный банк либо сам не владеет информацией о том, что происходит в его подведомственной организации, либо намеренно вводит многомиллионную аудиторию казахстанцев в заблуждение.  \n",
      " А говоря проще, я совсем запутался... \n",
      " После появления информации 22 декабря т.г. о том, что в отношении руководства ЕНПФ возбуждены уголовные дела, а в самом фонде прошли обыски, Нацбанк довольно вяло отреагировал на то, что никаких уголовных дел нет, ничего не похищалось, а Единый Накопительный Пенсионный фонд никакого отношения к Пенсионным Деньгам не имеет (довольно странный смысловой оксюморон на самом деле). «Официально заявляем, что в инвестиционном портфеле пенсионных активов нет ценных бумаг «Бузгул Аурум» - дословная цитата из того сообщения. \n",
      " Однако буквально на следующий день публикуется очередное заявление регулятора о том, что мол да, проверка правоохранительными органами проводится, но с участием самого Национального банка и аж с 21 декабря! \n",
      " То есть первое сообщение было заведомо ложным?!! \n",
      " И в самом тексте второго заявления приводятся пространные цифры о доходности ЕНПФ, которая выше (ненамного) инфляции, а также, общие цифры по пенсионным накоплениям: \n",
      " «23 декабря ЕНПФ подвёл предварительные итоги 2016 года. Так согласно официальному отчёту, общая сумма пенсионных накоплений по состоянию на 1 декабря 2016 года составила 6,640 триллиона тенге. С начала 2016 года объем пенсионных накоплений увеличился на 808,7 миллиарда тенге. Доходность по пенсионным активам ЕНПФ по итогам 11 месяцев 2016 года составила 8,15% при уровне инфляции за аналогичный период 7,5 %». \n",
      " То есть получается, что в ЕНПФ, все-таки есть пенсионные деньги (что в принципе было бы логично)? А первый пресс-релиз был неправдой, инстинктивным ответом на неприятную информацию? \n",
      " И как я заметил, читая комментарии к предыдущим новостям, большая часть населения отреагировала на указанные цифры очень негативно. Еще бы, ведь как справедливо отмечают читатели, эффективная ставка вознаграждения по тенговым депозитам (а наши пенсионные активы рассчитываются именно в тенге) в банках второго уровня составляют от 13 до 14,9% годовых, на фоне которых 8,15 %, заработанных ЕНПФ выглядят довольно-таки бледно. И что бы это заметить не надо быть председателем Нацбанка. \n",
      " P.S. А интересно, какую бы доходность показал ЕНПФ, если бы его менеджеры не были вовлечены в схемы, к которым у правоохранительных органов возникают вопросы? \n",
      " P.P.S. Кстати 23 декабря 365info.kz опубликовало ряд вопросов к регулятору, четкие ответы на которые внесли бы полную ясность в эту мутную историю. Однако ответов так и нет … View the discussion thread. blog comments powered by DISQUS back to top Вперёд >\n",
      "\n"
     ]
    }
   ],
   "source": [
    "print(data_X[728])"
   ]
  },
  {
   "cell_type": "code",
   "execution_count": 245,
   "metadata": {},
   "outputs": [
    {
     "data": {
      "text/plain": [
       "array([1, 0, 0, 0, 0, 0, 0, 0, 0, 0, 0, 0, 0, 0, 0, 0, 0, 0, 0, 0, 0, 0,\n",
       "       0, 0, 0, 0, 0, 0, 0, 0, 0, 0, 0, 0, 0, 0, 0, 0, 0, 0, 0, 0, 0, 0,\n",
       "       0, 0, 0, 0, 0, 0, 0, 0, 0, 0, 1, 0, 0, 0, 0, 1, 0, 0, 0, 0, 0, 0,\n",
       "       0, 0, 0, 0, 0, 0, 0, 0, 0, 0, 0, 0, 0, 0, 0, 0, 0, 0, 0, 0, 0, 0,\n",
       "       0, 0, 1, 0, 0, 0, 0, 0, 0, 0, 0, 0, 0, 0, 0, 0, 0, 0, 0, 0, 0, 0,\n",
       "       0, 0, 0, 0, 0, 0, 1, 0, 0, 0, 0, 0, 0, 0, 0, 0, 0, 1, 0, 0, 0, 0,\n",
       "       0, 0, 0, 0, 0, 0, 0, 0, 0, 0, 0, 0, 0, 0, 0, 0, 0, 0, 0, 0, 0, 1,\n",
       "       0, 0, 0, 0, 1, 0, 0, 0, 0, 0, 0, 0, 0, 0, 0, 0, 0, 0, 0, 0, 0, 0,\n",
       "       0, 0, 0, 0, 0, 1, 0, 0, 0, 0, 0, 0, 0, 0, 0, 0, 0, 0, 0, 0, 0, 0,\n",
       "       0, 0, 0, 0, 0, 0, 0, 0, 0, 1, 0, 0, 0, 0, 0, 0, 0, 0, 0, 0, 0, 0,\n",
       "       0, 0, 0, 0, 0, 1, 0, 0, 1, 0, 0, 0, 0, 0, 0, 0, 0, 0, 0, 0, 0, 0,\n",
       "       0, 0, 0, 0, 0, 0, 0, 0, 0, 0, 0, 0, 0, 1, 0, 0, 0, 0, 0, 0, 0, 1,\n",
       "       0, 0, 0, 0, 0, 0, 0, 1, 0, 0, 0, 0, 0, 0, 0, 0, 0, 0, 0, 0, 0, 0,\n",
       "       0, 0, 0, 1, 0, 0, 0, 0, 0, 0, 0, 0, 0, 0, 0, 0, 0, 0, 0, 0, 0, 0,\n",
       "       0, 0, 0, 0, 0, 0, 0, 0, 0, 0, 0, 1, 0, 0, 0, 0, 0, 0, 0, 1, 0, 0,\n",
       "       0, 0, 0, 0, 0, 0, 0, 0, 0, 1, 0, 0, 0, 0, 0, 0, 0, 1, 0, 1, 0, 0,\n",
       "       0, 1, 1, 0, 0, 0, 0, 0, 0, 0, 0, 0, 0, 1, 0, 0, 0, 0, 0, 0, 0, 0,\n",
       "       0, 0, 0, 0, 0, 0, 0, 0, 1, 0, 0, 0, 0, 0, 0, 0, 0, 0, 0, 0, 0, 0,\n",
       "       0, 0, 0, 0, 0, 0, 0, 0, 0, 1, 1, 0, 0, 0, 0, 0, 0, 0, 0, 0, 0, 0,\n",
       "       0, 0, 0, 0, 0, 0, 0, 0, 0, 0, 0, 1, 0, 0, 0, 0, 1, 0, 0, 0, 0, 0,\n",
       "       0, 0, 1, 1, 0, 0, 0, 0, 0, 0, 0, 1, 0, 0, 1, 0, 0, 0, 0, 0, 1, 0,\n",
       "       0, 0, 0, 1, 0, 0, 0, 0, 0, 0, 0, 0, 0, 0, 0, 0, 0, 0, 0, 0, 0, 0,\n",
       "       0, 0, 0, 0, 0, 0, 0, 0, 0, 0, 0, 0, 0, 0, 0, 0, 0, 0, 0, 0, 1, 0,\n",
       "       0, 0, 0, 0, 0, 0, 0, 0, 0, 0, 0, 0, 1, 0, 0, 0, 0, 0, 0, 0, 0, 0,\n",
       "       0, 0, 0, 0, 0, 0, 0, 0, 0, 0, 0, 0, 0, 0, 0, 1, 0, 0, 0, 0, 0, 0,\n",
       "       0, 0, 0, 1, 1, 0, 0, 0, 0, 0, 0, 0, 0, 1, 0, 0, 0, 0, 1, 0, 0, 0,\n",
       "       0, 0, 0, 0, 1, 0, 0, 0, 0, 0, 0, 0, 0, 0, 0, 0, 0, 0, 0, 0, 0, 0,\n",
       "       0, 0, 0, 0, 0, 0, 0, 0, 0, 0, 0, 0, 0, 0, 0, 0, 0, 0, 0, 0, 0, 0,\n",
       "       0, 0, 0, 0, 0, 0, 0, 0, 0, 0, 0, 0, 0, 1, 0, 0, 0, 0, 0, 0, 0, 0,\n",
       "       0, 0, 0, 0, 0, 0, 0, 0, 1, 0, 0, 0, 0, 0, 0, 0, 0, 0, 0, 0, 0, 0,\n",
       "       0, 0, 0, 0, 0, 0, 0, 0, 0, 0, 0, 0, 0, 0, 0, 0, 0, 0, 0, 0, 0, 0,\n",
       "       0, 0, 0, 0, 0, 0, 1, 0, 0, 0, 0, 0, 0, 0, 1, 0, 0, 0, 0, 0, 0, 0,\n",
       "       0, 0, 0, 0, 0, 0, 0, 0, 0, 0, 0, 0, 0, 1, 0, 0, 0, 0, 0, 0, 0, 0,\n",
       "       0, 0, 1, 0, 0, 0, 0, 0, 0, 0, 0, 0, 0, 0, 0, 0, 1, 0, 0, 0, 0, 0,\n",
       "       0, 0, 0, 0, 0, 0, 0, 0, 1, 0, 1, 0, 1, 0, 0, 1, 0, 0, 0, 1, 0, 0,\n",
       "       0, 0, 0, 0, 0, 0, 0, 0, 0, 0, 0, 0, 0, 0, 0, 0, 0, 0, 0, 0, 0, 0,\n",
       "       0, 0, 0, 1, 0, 0, 0, 1, 0, 1, 1, 0, 0, 0, 0, 0, 0, 0, 0, 0, 0, 0,\n",
       "       0, 1, 0, 0, 0, 0, 0, 0, 0, 0, 0, 0, 0, 0, 0, 0, 0, 0, 0, 0, 0, 0,\n",
       "       0, 0, 0, 0, 1, 0, 0, 0, 1, 0, 0, 0, 0, 0, 0, 0, 0, 0, 0, 0, 0, 0,\n",
       "       0, 0, 0, 0, 0, 0, 0, 0, 0, 1, 0, 0, 0, 0, 0, 0, 0, 0, 0, 0, 0, 0,\n",
       "       1, 0, 0, 0, 0, 0, 0, 1, 0, 0, 0, 0, 0, 0, 1, 0, 0, 0, 0, 0, 0, 0,\n",
       "       0, 0, 0, 0, 0, 0, 0, 0, 0, 1, 0, 0, 0, 0, 0, 0, 0, 0, 0, 0, 0, 0,\n",
       "       1, 0, 0, 0, 0, 0, 0, 0, 0, 0, 0, 1, 0, 0, 0, 0, 0, 0, 1, 0, 0, 0,\n",
       "       0, 1, 0, 0, 0, 1, 0, 0, 0, 0, 0, 0, 0, 1, 0, 0, 0, 0, 0, 0, 0, 0,\n",
       "       0, 0, 0, 0, 0, 0, 0, 0, 0, 0, 0, 0, 1, 0, 0, 0, 0, 0, 0, 0, 0, 0,\n",
       "       0, 0, 0, 0, 0, 0, 0, 0, 0, 0])"
      ]
     },
     "execution_count": 245,
     "metadata": {},
     "output_type": "execute_result"
    }
   ],
   "source": [
    "model.labels_"
   ]
  },
  {
   "cell_type": "code",
   "execution_count": 263,
   "metadata": {},
   "outputs": [
    {
     "name": "stdout",
     "output_type": "stream",
     "text": [
      "11 34 331 161\n"
     ]
    }
   ],
   "source": [
    "count_1_pos = 0\n",
    "count_1_neg = 0\n",
    "count_0_pos = 0\n",
    "count_0_neg = 0\n",
    "for i, x in enumerate(model.labels_):\n",
    "    if x == 1:\n",
    "        if data_Y[i] == 1:\n",
    "            count_1_pos += 1\n",
    "        if data_Y[i] == -1:\n",
    "            count_1_neg += 1\n",
    "    if x == 0:\n",
    "        if data_Y[i] == 1:\n",
    "            count_0_pos += 1\n",
    "        if data_Y[i] == -1:\n",
    "            count_0_neg += 1\n",
    "        \n",
    "print(count_1_pos, count_1_neg, count_0_pos, count_0_neg)"
   ]
  },
  {
   "cell_type": "markdown",
   "metadata": {},
   "source": [
    "Можно заметить, что для первого класса более свойственна положительная оценка, а для второго - отрицательная, однако, разница не настолько значителная. 24/76 % и 67/33%."
   ]
  },
  {
   "cell_type": "markdown",
   "metadata": {},
   "source": [
    "# Extra task 3"
   ]
  },
  {
   "cell_type": "code",
   "execution_count": 378,
   "metadata": {},
   "outputs": [],
   "source": [
    "from scipy.cluster.hierarchy import linkage\n",
    "\n",
    "hierarchy = linkage(X_reduced_7, 'ward')"
   ]
  },
  {
   "cell_type": "code",
   "execution_count": 379,
   "metadata": {},
   "outputs": [
    {
     "data": {
      "image/png": "[encoded data removed]",
      "text/plain": [
       "<Figure size 1800x720 with 1 Axes>"
      ]
     },
     "metadata": {},
     "output_type": "display_data"
    }
   ],
   "source": [
    "plt.figure(figsize=(25, 10))\n",
    "plt.title('Dendrogram')\n",
    "plt.xlabel('sample index')\n",
    "plt.ylabel('distance')\n",
    "dendrogram(\n",
    "    hierarchy,\n",
    "    leaf_rotation=90.,  \n",
    "    leaf_font_size=8.,  \n",
    ")\n",
    "plt.axhline(y=17, c='c')\n",
    "plt.show()"
   ]
  },
  {
   "cell_type": "markdown",
   "metadata": {},
   "source": [
    "В дендрограмме также четко можно выделить 2 или 3 класса, как и в elbow или анализе силуэта."
   ]
  },
  {
   "cell_type": "code",
   "execution_count": 380,
   "metadata": {},
   "outputs": [
    {
     "data": {
      "image/png": "[encoded data removed]",
      "text/plain": [
       "<Figure size 432x288 with 1 Axes>"
      ]
     },
     "metadata": {},
     "output_type": "display_data"
    }
   ],
   "source": [
    "svd = TruncatedSVD(n_components=3, n_iter=7, random_state=42)\n",
    "X_reduced_7 = svd.fit_transform(X_)\n",
    "\n",
    "distances = []\n",
    "for kl in range(1,15):\n",
    "    Km = KMeans(n_clusters=kl, random_state = 42)\n",
    "    Km = Km.fit(X_reduced_7)\n",
    "    distances.append(Km.inertia_)\n",
    "    \n",
    "KM = range(1,15)\n",
    "\n",
    "plt.plot(KM, distances, 'bx-')\n",
    "plt.xlabel('kl')\n",
    "plt.ylabel('distances')\n",
    "plt.title('Elbow Method')\n",
    "plt.show()"
   ]
  },
  {
   "cell_type": "code",
   "execution_count": 381,
   "metadata": {},
   "outputs": [
    {
     "data": {
      "text/plain": [
       "0.5827149314959437"
      ]
     },
     "execution_count": 381,
     "metadata": {},
     "output_type": "execute_result"
    }
   ],
   "source": [
    "model = KMeans(n_clusters=2, random_state=42)\n",
    "preds = model.fit_predict(X_reduced_7)\n",
    "silhouette_score(X_reduced_7, model.labels_)"
   ]
  },
  {
   "cell_type": "code",
   "execution_count": 382,
   "metadata": {},
   "outputs": [
    {
     "data": {
      "text/plain": [
       "0.37382830187320815"
      ]
     },
     "execution_count": 382,
     "metadata": {},
     "output_type": "execute_result"
    }
   ],
   "source": [
    "model = KMeans(n_clusters=3, random_state=42)\n",
    "preds = model.fit_predict(X_reduced_7)\n",
    "silhouette_score(X_reduced_7, model.labels_)"
   ]
  },
  {
   "cell_type": "code",
   "execution_count": 383,
   "metadata": {},
   "outputs": [
    {
     "data": {
      "text/plain": [
       "0.31656774217731043"
      ]
     },
     "execution_count": 383,
     "metadata": {},
     "output_type": "execute_result"
    }
   ],
   "source": [
    "model = KMeans(n_clusters=4, random_state=42)\n",
    "preds = model.fit_predict(X_reduced_7)\n",
    "silhouette_score(X_reduced_7, model.labels_)"
   ]
  },
  {
   "cell_type": "markdown",
   "metadata": {},
   "source": [
    "Построим дендрограмму также для выборки без нейтрального класса."
   ]
  },
  {
   "cell_type": "code",
   "execution_count": 385,
   "metadata": {},
   "outputs": [
    {
     "data": {
      "image/png": "[encoded data removed]",
      "text/plain": [
       "<Figure size 1800x720 with 1 Axes>"
      ]
     },
     "metadata": {},
     "output_type": "display_data"
    }
   ],
   "source": [
    "hierarchy = linkage(X_reduced_2, 'ward')\n",
    "\n",
    "plt.figure(figsize=(25, 10))\n",
    "plt.title('Dendrogram')\n",
    "plt.xlabel('sample index')\n",
    "plt.ylabel('distance')\n",
    "dendrogram(\n",
    "    hierarchy,\n",
    "    leaf_rotation=90.,  \n",
    "    leaf_font_size=8.,  \n",
    ")\n",
    "plt.axhline(y=17, c='c')\n",
    "plt.show()"
   ]
  },
  {
   "cell_type": "markdown",
   "metadata": {},
   "source": [
    "Данные можно четко разделить на 2 класса."
   ]
  },
  {
   "cell_type": "code",
   "execution_count": null,
   "metadata": {},
   "outputs": [],
   "source": []
  }
 ],
 "metadata": {
  "kernelspec": {
   "display_name": "Python 3",
   "language": "python",
   "name": "python3"
  },
  "language_info": {
   "codemirror_mode": {
    "name": "ipython",
    "version": 3
   },
   "file_extension": ".py",
   "mimetype": "text/x-python",
   "name": "python",
   "nbconvert_exporter": "python",
   "pygments_lexer": "ipython3",
   "version": "3.6.6"
  }
 },
 "nbformat": 4,
 "nbformat_minor": 2
}
